{
 "cells": [
  {
   "cell_type": "markdown",
   "metadata": {
    "id": "r85LNibZkSUZ"
   },
   "source": [
    "\n",
    "\n",
    "## 1.  Data ETL"
   ]
  },
  {
   "cell_type": "markdown",
   "metadata": {
    "id": "HtL_9QR27_Iu"
   },
   "source": [
    "### 1.1 Data Loading"
   ]
  },
  {
   "cell_type": "code",
   "execution_count": 1,
   "metadata": {
    "id": "19EhpLspkSUZ"
   },
   "outputs": [],
   "source": [
    "import matplotlib.pyplot as plt\n",
    "import numpy as np\n",
    "import pandas as pd\n",
    "import time\n",
    "import datetime\n",
    "from scipy import stats\n",
    "import matplotlib\n",
    "##!pip install ip2geotools\n",
    "#!pip install seaborn\n",
    "from pandas import read_csv\n",
    "import ipywidgets as widgets"
   ]
  },
  {
   "cell_type": "markdown",
   "metadata": {
    "id": "jY2Br4cBN956"
   },
   "source": [
    " <div class=\"alert alert-block alert-info\">\n",
    "\n",
    "**Code**: \n",
    "    Load Hotel TULIP data into dataframe df_ht and check how many files are loaded.\n",
    "    <br>\n",
    "</div>\n",
    "\n"
   ]
  },
  {
   "cell_type": "code",
   "execution_count": 2,
   "metadata": {
    "id": "IIB_xH-hOqEj"
   },
   "outputs": [
    {
     "data": {
      "application/vnd.jupyter.widget-view+json": {
       "model_id": "34e30f7200e5475198a293c6897119e2",
       "version_major": 2,
       "version_minor": 0
      },
      "text/plain": [
       "IntProgress(value=0, description='Loading:', max=120)"
      ]
     },
     "metadata": {},
     "output_type": "display_data"
    },
    {
     "name": "stdout",
     "output_type": "stream",
     "text": [
      "Finished loading 120 web log files.\n"
     ]
    }
   ],
   "source": [
    "from ipywidgets import IntProgress\n",
    "from IPython.display import display\n",
    "from zipfile import ZipFile\n",
    "\n",
    "# Read all the web log files (held in a specific directory) and concatenate the data into a single pandas dataframe\n",
    "#\n",
    "# Create a list of all the log files within the directory\n",
    "all_files = ZipFile('D:/MBA/SIT742_Modern Data Science/A1/HTWebLog_p1.zip','r')\n",
    "files = all_files.namelist()\n",
    "\n",
    "data = []\n",
    "# Define the column names\n",
    "ColumnNames=['date','time','s-sitename','s-ip','cs-method','cs-uri-stem','cs-uri-query','s-port','cs-username',\n",
    "             'c-ip','cs(User-Agent)','cs(Referer)','sc-status','sc-substatus','sc-win32-status']\n",
    "# Create a progress bar to track progress (importing data can take several minutes)\n",
    "ProgressBar = IntProgress(value=0,min=0,max=len(files),step=1,\n",
    "                          description='Loading:',bar_style='',orientation='horizontal')\n",
    "display(ProgressBar)\n",
    "# Read each of the files using the pandas read csv function within a 'for loop'\n",
    "# and set data to str for each column to ensure all data loads\n",
    "for name in all_files.namelist():\n",
    "    ProgressBar.value += 1\n",
    "    load_file = pd.read_csv(all_files.open(name),\n",
    "                            delim_whitespace=True,\n",
    "                            na_values='-',\n",
    "                            skiprows = 4,\n",
    "                            usecols=[0,1,2,3,4,5,6,7,8,9,10,11,12,13,14],\n",
    "                            header=None,\n",
    "                            encoding='iso-8859-1',\n",
    "                            names=ColumnNames,\n",
    "                          ## error_bad_lines=False,\n",
    "                          ##  warn_bad_lines=False,\n",
    "                            dtype={'date': str,'time': str,'s-sitename': str, 's-ip': str,'cs-method': str,'cs-uri-stem': str,\n",
    "                                   'cs-uri-query': str,'s-port': str,'cs-username': str,'c-ip': str,'cs(User-Agent)': str,\n",
    "                                   'cs(Referer)': str, 'sc-status': str,'sc-substatus': str,'sc-win32-status': str})\n",
    "    \n",
    "    # There are rows with \"#\" in files, drop rows starts with \"#\"\n",
    "    load_file = load_file[~load_file['date'].str.startswith(\"#\")]\n",
    "    \n",
    "    data.append(load_file)\n",
    "\n",
    "# Concatenate all the pandas dataframes into a single dataframe\n",
    "df_ht = pd.concat(data)\n",
    "\n",
    "\n",
    "print ('Finished loading', ProgressBar.value, 'web log files.')"
   ]
  },
  {
   "cell_type": "markdown",
   "metadata": {
    "id": "Dyt9lwm_QKFV"
   },
   "source": [
    " <div class=\"alert alert-block alert-info\">\n",
    "\n",
    "**Code**: \n",
    "    Check the data statistics and general information by printing its top 5 rows.\n",
    "    <br>\n",
    "</div>\n"
   ]
  },
  {
   "cell_type": "code",
   "execution_count": 3,
   "metadata": {},
   "outputs": [
    {
     "data": {
      "text/html": [
       "<div>\n",
       "<style scoped>\n",
       "    .dataframe tbody tr th:only-of-type {\n",
       "        vertical-align: middle;\n",
       "    }\n",
       "\n",
       "    .dataframe tbody tr th {\n",
       "        vertical-align: top;\n",
       "    }\n",
       "\n",
       "    .dataframe thead th {\n",
       "        text-align: right;\n",
       "    }\n",
       "</style>\n",
       "<table border=\"1\" class=\"dataframe\">\n",
       "  <thead>\n",
       "    <tr style=\"text-align: right;\">\n",
       "      <th></th>\n",
       "      <th>date</th>\n",
       "      <th>time</th>\n",
       "      <th>s-sitename</th>\n",
       "      <th>s-ip</th>\n",
       "      <th>cs-method</th>\n",
       "      <th>cs-uri-stem</th>\n",
       "      <th>cs-uri-query</th>\n",
       "      <th>s-port</th>\n",
       "      <th>cs-username</th>\n",
       "      <th>c-ip</th>\n",
       "      <th>cs(User-Agent)</th>\n",
       "      <th>cs(Referer)</th>\n",
       "      <th>sc-status</th>\n",
       "      <th>sc-substatus</th>\n",
       "      <th>sc-win32-status</th>\n",
       "    </tr>\n",
       "  </thead>\n",
       "  <tbody>\n",
       "    <tr>\n",
       "      <th>0</th>\n",
       "      <td>2006-11-01</td>\n",
       "      <td>00:00:08</td>\n",
       "      <td>W3SVC1</td>\n",
       "      <td>127.0.0.1</td>\n",
       "      <td>GET</td>\n",
       "      <td>/Default.aspx</td>\n",
       "      <td>NaN</td>\n",
       "      <td>80</td>\n",
       "      <td>NaN</td>\n",
       "      <td>70.80.84.76</td>\n",
       "      <td>Mozilla/4.0+(compatible;+MSIE+6.0;+Windows+NT+...</td>\n",
       "      <td>http://www.google.com/search?sourceid=navclien...</td>\n",
       "      <td>200</td>\n",
       "      <td>0</td>\n",
       "      <td>0</td>\n",
       "    </tr>\n",
       "    <tr>\n",
       "      <th>1</th>\n",
       "      <td>2006-11-01</td>\n",
       "      <td>00:00:08</td>\n",
       "      <td>W3SVC1</td>\n",
       "      <td>127.0.0.1</td>\n",
       "      <td>GET</td>\n",
       "      <td>/Tulip/home/en-us/home_index.aspx</td>\n",
       "      <td>NaN</td>\n",
       "      <td>80</td>\n",
       "      <td>NaN</td>\n",
       "      <td>70.80.84.76</td>\n",
       "      <td>Mozilla/4.0+(compatible;+MSIE+6.0;+Windows+NT+...</td>\n",
       "      <td>NaN</td>\n",
       "      <td>200</td>\n",
       "      <td>0</td>\n",
       "      <td>0</td>\n",
       "    </tr>\n",
       "    <tr>\n",
       "      <th>2</th>\n",
       "      <td>2006-11-01</td>\n",
       "      <td>00:00:08</td>\n",
       "      <td>W3SVC1</td>\n",
       "      <td>127.0.0.1</td>\n",
       "      <td>GET</td>\n",
       "      <td>/Tulip/includes/js/CommonUtil.js</td>\n",
       "      <td>NaN</td>\n",
       "      <td>80</td>\n",
       "      <td>NaN</td>\n",
       "      <td>70.80.84.76</td>\n",
       "      <td>Mozilla/4.0+(compatible;+MSIE+6.0;+Windows+NT+...</td>\n",
       "      <td>http://www.hotelTulip.com.hk/Tulip/home/en-us/...</td>\n",
       "      <td>200</td>\n",
       "      <td>0</td>\n",
       "      <td>0</td>\n",
       "    </tr>\n",
       "    <tr>\n",
       "      <th>3</th>\n",
       "      <td>2006-11-01</td>\n",
       "      <td>00:00:09</td>\n",
       "      <td>W3SVC1</td>\n",
       "      <td>127.0.0.1</td>\n",
       "      <td>GET</td>\n",
       "      <td>/Tulip/common/common_style.aspx</td>\n",
       "      <td>lang=en-us</td>\n",
       "      <td>80</td>\n",
       "      <td>NaN</td>\n",
       "      <td>70.80.84.76</td>\n",
       "      <td>Mozilla/4.0+(compatible;+MSIE+6.0;+Windows+NT+...</td>\n",
       "      <td>http://www.hotelTulip.com.hk/Tulip/home/en-us/...</td>\n",
       "      <td>200</td>\n",
       "      <td>0</td>\n",
       "      <td>0</td>\n",
       "    </tr>\n",
       "    <tr>\n",
       "      <th>4</th>\n",
       "      <td>2006-11-01</td>\n",
       "      <td>00:00:09</td>\n",
       "      <td>W3SVC1</td>\n",
       "      <td>127.0.0.1</td>\n",
       "      <td>GET</td>\n",
       "      <td>/Tulip/common/en-us/images/top_img.jpg</td>\n",
       "      <td>NaN</td>\n",
       "      <td>80</td>\n",
       "      <td>NaN</td>\n",
       "      <td>70.80.84.76</td>\n",
       "      <td>Mozilla/4.0+(compatible;+MSIE+6.0;+Windows+NT+...</td>\n",
       "      <td>http://www.hotelTulip.com.hk/Tulip/home/en-us/...</td>\n",
       "      <td>200</td>\n",
       "      <td>0</td>\n",
       "      <td>0</td>\n",
       "    </tr>\n",
       "  </tbody>\n",
       "</table>\n",
       "</div>"
      ],
      "text/plain": [
       "         date      time s-sitename       s-ip cs-method  \\\n",
       "0  2006-11-01  00:00:08     W3SVC1  127.0.0.1       GET   \n",
       "1  2006-11-01  00:00:08     W3SVC1  127.0.0.1       GET   \n",
       "2  2006-11-01  00:00:08     W3SVC1  127.0.0.1       GET   \n",
       "3  2006-11-01  00:00:09     W3SVC1  127.0.0.1       GET   \n",
       "4  2006-11-01  00:00:09     W3SVC1  127.0.0.1       GET   \n",
       "\n",
       "                              cs-uri-stem cs-uri-query s-port cs-username  \\\n",
       "0                           /Default.aspx          NaN     80         NaN   \n",
       "1       /Tulip/home/en-us/home_index.aspx          NaN     80         NaN   \n",
       "2        /Tulip/includes/js/CommonUtil.js          NaN     80         NaN   \n",
       "3         /Tulip/common/common_style.aspx   lang=en-us     80         NaN   \n",
       "4  /Tulip/common/en-us/images/top_img.jpg          NaN     80         NaN   \n",
       "\n",
       "          c-ip                                     cs(User-Agent)  \\\n",
       "0  70.80.84.76  Mozilla/4.0+(compatible;+MSIE+6.0;+Windows+NT+...   \n",
       "1  70.80.84.76  Mozilla/4.0+(compatible;+MSIE+6.0;+Windows+NT+...   \n",
       "2  70.80.84.76  Mozilla/4.0+(compatible;+MSIE+6.0;+Windows+NT+...   \n",
       "3  70.80.84.76  Mozilla/4.0+(compatible;+MSIE+6.0;+Windows+NT+...   \n",
       "4  70.80.84.76  Mozilla/4.0+(compatible;+MSIE+6.0;+Windows+NT+...   \n",
       "\n",
       "                                         cs(Referer) sc-status sc-substatus  \\\n",
       "0  http://www.google.com/search?sourceid=navclien...       200            0   \n",
       "1                                                NaN       200            0   \n",
       "2  http://www.hotelTulip.com.hk/Tulip/home/en-us/...       200            0   \n",
       "3  http://www.hotelTulip.com.hk/Tulip/home/en-us/...       200            0   \n",
       "4  http://www.hotelTulip.com.hk/Tulip/home/en-us/...       200            0   \n",
       "\n",
       "  sc-win32-status  \n",
       "0               0  \n",
       "1               0  \n",
       "2               0  \n",
       "3               0  \n",
       "4               0  "
      ]
     },
     "execution_count": 3,
     "metadata": {},
     "output_type": "execute_result"
    }
   ],
   "source": [
    "df_ht.head(5)"
   ]
  },
  {
   "cell_type": "code",
   "execution_count": 4,
   "metadata": {},
   "outputs": [
    {
     "data": {
      "text/html": [
       "<div>\n",
       "<style scoped>\n",
       "    .dataframe tbody tr th:only-of-type {\n",
       "        vertical-align: middle;\n",
       "    }\n",
       "\n",
       "    .dataframe tbody tr th {\n",
       "        vertical-align: top;\n",
       "    }\n",
       "\n",
       "    .dataframe thead th {\n",
       "        text-align: right;\n",
       "    }\n",
       "</style>\n",
       "<table border=\"1\" class=\"dataframe\">\n",
       "  <thead>\n",
       "    <tr style=\"text-align: right;\">\n",
       "      <th></th>\n",
       "      <th>date</th>\n",
       "      <th>time</th>\n",
       "      <th>s-sitename</th>\n",
       "      <th>s-ip</th>\n",
       "      <th>cs-method</th>\n",
       "      <th>cs-uri-stem</th>\n",
       "      <th>cs-uri-query</th>\n",
       "      <th>s-port</th>\n",
       "      <th>cs-username</th>\n",
       "      <th>c-ip</th>\n",
       "      <th>cs(User-Agent)</th>\n",
       "      <th>cs(Referer)</th>\n",
       "      <th>sc-status</th>\n",
       "      <th>sc-substatus</th>\n",
       "      <th>sc-win32-status</th>\n",
       "    </tr>\n",
       "  </thead>\n",
       "  <tbody>\n",
       "    <tr>\n",
       "      <th>count</th>\n",
       "      <td>8438928</td>\n",
       "      <td>8438928</td>\n",
       "      <td>8438928</td>\n",
       "      <td>8438928</td>\n",
       "      <td>8438928</td>\n",
       "      <td>8438928</td>\n",
       "      <td>552396</td>\n",
       "      <td>8438928</td>\n",
       "      <td>0</td>\n",
       "      <td>8438928</td>\n",
       "      <td>8435401</td>\n",
       "      <td>7129934</td>\n",
       "      <td>8438928</td>\n",
       "      <td>8438928</td>\n",
       "      <td>8438928</td>\n",
       "    </tr>\n",
       "    <tr>\n",
       "      <th>unique</th>\n",
       "      <td>121</td>\n",
       "      <td>86372</td>\n",
       "      <td>1</td>\n",
       "      <td>1</td>\n",
       "      <td>6</td>\n",
       "      <td>4761</td>\n",
       "      <td>1987</td>\n",
       "      <td>1</td>\n",
       "      <td>0</td>\n",
       "      <td>74548</td>\n",
       "      <td>4958</td>\n",
       "      <td>39714</td>\n",
       "      <td>12</td>\n",
       "      <td>4</td>\n",
       "      <td>14</td>\n",
       "    </tr>\n",
       "    <tr>\n",
       "      <th>top</th>\n",
       "      <td>2006-12-12</td>\n",
       "      <td>08:37:00</td>\n",
       "      <td>W3SVC1</td>\n",
       "      <td>127.0.0.1</td>\n",
       "      <td>GET</td>\n",
       "      <td>/Tulip/common/common_style.aspx</td>\n",
       "      <td>lang=en-us</td>\n",
       "      <td>80</td>\n",
       "      <td>NaN</td>\n",
       "      <td>59.188.33.66</td>\n",
       "      <td>Mozilla/4.0+(compatible;+MSIE+6.0;+Windows+NT+...</td>\n",
       "      <td>http://www.hotelTulip.com.hk/Tulip/home/en-us/...</td>\n",
       "      <td>200</td>\n",
       "      <td>0</td>\n",
       "      <td>0</td>\n",
       "    </tr>\n",
       "    <tr>\n",
       "      <th>freq</th>\n",
       "      <td>120190</td>\n",
       "      <td>382</td>\n",
       "      <td>8438928</td>\n",
       "      <td>8438928</td>\n",
       "      <td>8421984</td>\n",
       "      <td>402987</td>\n",
       "      <td>231265</td>\n",
       "      <td>8438928</td>\n",
       "      <td>NaN</td>\n",
       "      <td>93769</td>\n",
       "      <td>1982248</td>\n",
       "      <td>1618649</td>\n",
       "      <td>6074386</td>\n",
       "      <td>8438223</td>\n",
       "      <td>8057000</td>\n",
       "    </tr>\n",
       "  </tbody>\n",
       "</table>\n",
       "</div>"
      ],
      "text/plain": [
       "              date      time s-sitename       s-ip cs-method  \\\n",
       "count      8438928   8438928    8438928    8438928   8438928   \n",
       "unique         121     86372          1          1         6   \n",
       "top     2006-12-12  08:37:00     W3SVC1  127.0.0.1       GET   \n",
       "freq        120190       382    8438928    8438928   8421984   \n",
       "\n",
       "                            cs-uri-stem cs-uri-query   s-port cs-username  \\\n",
       "count                           8438928       552396  8438928           0   \n",
       "unique                             4761         1987        1           0   \n",
       "top     /Tulip/common/common_style.aspx   lang=en-us       80         NaN   \n",
       "freq                             402987       231265  8438928         NaN   \n",
       "\n",
       "                c-ip                                     cs(User-Agent)  \\\n",
       "count        8438928                                            8435401   \n",
       "unique         74548                                               4958   \n",
       "top     59.188.33.66  Mozilla/4.0+(compatible;+MSIE+6.0;+Windows+NT+...   \n",
       "freq           93769                                            1982248   \n",
       "\n",
       "                                              cs(Referer) sc-status  \\\n",
       "count                                             7129934   8438928   \n",
       "unique                                              39714        12   \n",
       "top     http://www.hotelTulip.com.hk/Tulip/home/en-us/...       200   \n",
       "freq                                              1618649   6074386   \n",
       "\n",
       "       sc-substatus sc-win32-status  \n",
       "count       8438928         8438928  \n",
       "unique            4              14  \n",
       "top               0               0  \n",
       "freq        8438223         8057000  "
      ]
     },
     "execution_count": 4,
     "metadata": {},
     "output_type": "execute_result"
    }
   ],
   "source": [
    "# Data description\n",
    "df_ht.describe()"
   ]
  },
  {
   "cell_type": "code",
   "execution_count": 5,
   "metadata": {},
   "outputs": [
    {
     "name": "stdout",
     "output_type": "stream",
     "text": [
      "\n",
      "Data size : (8438928, 15)\n",
      "\n",
      "Number of records : 8438928\n",
      "\n",
      "Number of atrributes : 15\n",
      "--------------------------------------\n",
      "\n",
      "Attribute name:\n",
      "\n",
      "['date', 'time', 's-sitename', 's-ip', 'cs-method', 'cs-uri-stem', 'cs-uri-query', 's-port', 'cs-username', 'c-ip', 'cs(User-Agent)', 'cs(Referer)', 'sc-status', 'sc-substatus', 'sc-win32-status']\n"
     ]
    }
   ],
   "source": [
    "print(\"\\nData size :\",df_ht.shape)\n",
    "print(\"\\nNumber of records :\",len(df_ht))\n",
    "print(\"\\nNumber of atrributes :\",len(df_ht.columns))\n",
    "print('--------------------------------------')\n",
    "\n",
    "#attribute name\n",
    "print('\\nAttribute name:\\n')\n",
    "\n",
    "print(df_ht.columns.to_list())"
   ]
  },
  {
   "cell_type": "code",
   "execution_count": 6,
   "metadata": {
    "id": "1h7LqSGgQRUb"
   },
   "outputs": [
    {
     "name": "stdout",
     "output_type": "stream",
     "text": [
      "\n",
      "Data size:  (8438928, 15)\n",
      "\n",
      "Number of records:  8438928\n",
      "\n",
      "NUmber of attributes:  15\n",
      "['date', 'time', 's-sitename', 's-ip', 'cs-method', 'cs-uri-stem', 'cs-uri-query', 's-port', 'cs-username', 'c-ip', 'cs(User-Agent)', 'cs(Referer)', 'sc-status', 'sc-substatus', 'sc-win32-status']\n"
     ]
    }
   ],
   "source": [
    "print(\"\\nData size: \", df_ht.shape)\n",
    "print(\"\\nNumber of records: \", len(df_ht))\n",
    "print(\"\\nNUmber of attributes: \", len(df_ht.columns))\n",
    "print(df_ht.columns.tolist())"
   ]
  },
  {
   "cell_type": "markdown",
   "metadata": {
    "id": "jDUDzs7lkSUa"
   },
   "source": [
    "### 1.2 Data Cleaning"
   ]
  },
  {
   "cell_type": "markdown",
   "metadata": {
    "id": "En0WOURqp7dB"
   },
   "source": [
    "#### Remove all NAs from data"
   ]
  },
  {
   "cell_type": "markdown",
   "metadata": {
    "id": "Efxzawa7Xdv9"
   },
   "source": [
    "\n",
    "<div class=\"alert alert-block alert-warning\">\n",
    "\n",
    "**Code**: \n",
    "    1. Check which columns have NAs, <br>\n",
    "    2. For each of those columns, display the number of NA records, <br> \n",
    "    3. Remove all records with any NAs.\n",
    "    <br>\n",
    "</div> \n",
    "\n"
   ]
  },
  {
   "cell_type": "code",
   "execution_count": 7,
   "metadata": {
    "id": "GX3BeD361pTw"
   },
   "outputs": [
    {
     "name": "stdout",
     "output_type": "stream",
     "text": [
      "\n",
      "Row with a null value in column (prior to data cleaning)\n",
      "date :  0\n",
      "time :  0\n",
      "s-sitename :  0\n",
      "s-ip :  0\n",
      "cs-method :  0\n",
      "cs-uri-stem :  0\n",
      "cs-uri-query :  7886532\n",
      "s-port :  0\n",
      "cs-username :  8438928\n",
      "c-ip :  0\n",
      "cs(User-Agent) :  3527\n",
      "cs(Referer) :  1308994\n",
      "sc-status :  0\n",
      "sc-substatus :  0\n",
      "sc-win32-status :  0\n",
      "Total rows prior to removal of null data:  8438928\n"
     ]
    }
   ],
   "source": [
    "# Print the row count for each column that has a null value \n",
    "print('')\n",
    "print('Row with a null value in column (prior to data cleaning)')\n",
    "for name in ColumnNames: \n",
    "    print (name,': ', df_ht[name].isnull().sum())\n",
    "\n",
    "print('Total rows prior to removal of null data: ', len(df_ht))"
   ]
  },
  {
   "cell_type": "code",
   "execution_count": 15,
   "metadata": {},
   "outputs": [
    {
     "data": {
      "text/plain": [
       "cs-username        100.000000\n",
       "cs-uri-query        93.454192\n",
       "cs(Referer)         15.511378\n",
       "cs(User-Agent)       0.041794\n",
       "date                 0.000000\n",
       "time                 0.000000\n",
       "s-sitename           0.000000\n",
       "s-ip                 0.000000\n",
       "cs-method            0.000000\n",
       "cs-uri-stem          0.000000\n",
       "s-port               0.000000\n",
       "c-ip                 0.000000\n",
       "sc-status            0.000000\n",
       "sc-substatus         0.000000\n",
       "sc-win32-status      0.000000\n",
       "dtype: float64"
      ]
     },
     "execution_count": 15,
     "metadata": {},
     "output_type": "execute_result"
    }
   ],
   "source": [
    "#Count the number of NAs for each column\n",
    "na_counts = df_ht.isna().sum()\n",
    "na_ratio = na_counts * 100/len(df_ht)\n",
    "na_ratio.sort_values(ascending = False)"
   ]
  },
  {
   "cell_type": "code",
   "execution_count": 9,
   "metadata": {},
   "outputs": [],
   "source": [
    "#drop columns with more than 15% NAs values\n",
    "df_ht_cleaned = df_ht.drop(['cs-uri-query','cs-username','cs(Referer)'], axis = 1) ## axis = 1 means columns"
   ]
  },
  {
   "cell_type": "code",
   "execution_count": 10,
   "metadata": {},
   "outputs": [],
   "source": [
    "#drops rows with NAs\n",
    "df_ht_cleaned.dropna(axis = 0, inplace = True) ## axis = 0 means rows, inplace = True means reset indexs"
   ]
  },
  {
   "cell_type": "code",
   "execution_count": 11,
   "metadata": {},
   "outputs": [
    {
     "name": "stdout",
     "output_type": "stream",
     "text": [
      "The total rows after removal of null data:  8435401\n"
     ]
    }
   ],
   "source": [
    "#Print total rows after removing \n",
    "print('The total rows after removal of null data: ', len(df_ht_cleaned))"
   ]
  },
  {
   "cell_type": "code",
   "execution_count": 14,
   "metadata": {},
   "outputs": [
    {
     "data": {
      "text/plain": [
       "(8435401, 12)"
      ]
     },
     "execution_count": 14,
     "metadata": {},
     "output_type": "execute_result"
    }
   ],
   "source": [
    "#Print the summary of data after removing\n",
    "df_ht_cleaned.shape"
   ]
  },
  {
   "cell_type": "markdown",
   "metadata": {},
   "source": [
    "The number of rows is 8435401 with 12 columns after cleaning"
   ]
  },
  {
   "cell_type": "markdown",
   "metadata": {
    "id": "mq3sWOXtrZhF"
   },
   "source": [
    "## 2. Data Statistics Description"
   ]
  },
  {
   "cell_type": "markdown",
   "metadata": {
    "id": "BJuh1nsirmOy"
   },
   "source": [
    "### 2.1 Traffic Analysis"
   ]
  },
  {
   "cell_type": "markdown",
   "metadata": {
    "id": "vzey2OZygD8u"
   },
   "source": [
    "\n",
    "<div class=\"alert alert-block alert-warning\">\n",
    "\n",
    "**Code**: \n",
    "    Discover on the traffics by analysing hourly requests, then plot it into Bar Chart.\n",
    "    <br>\n",
    "</div> \n",
    "\n"
   ]
  },
  {
   "cell_type": "markdown",
   "metadata": {
    "id": "EpEeaqZtxIZg"
   },
   "source": [
    "#### By day and plot \n",
    "\n"
   ]
  },
  {
   "cell_type": "code",
   "execution_count": 12,
   "metadata": {
    "id": "DAH1IrWbfQQW"
   },
   "outputs": [
    {
     "data": {
      "text/plain": [
       "[Text(0, 0, '00'),\n",
       " Text(1, 0, '01'),\n",
       " Text(2, 0, '02'),\n",
       " Text(3, 0, '03'),\n",
       " Text(4, 0, '04'),\n",
       " Text(5, 0, '05'),\n",
       " Text(6, 0, '06'),\n",
       " Text(7, 0, '07'),\n",
       " Text(8, 0, '08'),\n",
       " Text(9, 0, '09'),\n",
       " Text(10, 0, '10'),\n",
       " Text(11, 0, '11'),\n",
       " Text(12, 0, '12'),\n",
       " Text(13, 0, '13'),\n",
       " Text(14, 0, '14'),\n",
       " Text(15, 0, '15'),\n",
       " Text(16, 0, '16'),\n",
       " Text(17, 0, '17'),\n",
       " Text(18, 0, '18'),\n",
       " Text(19, 0, '19'),\n",
       " Text(20, 0, '20'),\n",
       " Text(21, 0, '21'),\n",
       " Text(22, 0, '22'),\n",
       " Text(23, 0, '23')]"
      ]
     },
     "execution_count": 12,
     "metadata": {},
     "output_type": "execute_result"
    },
    {
     "data": {
      "image/png": "[encoded data removed]",
      "text/plain": [
       "<Figure size 1500x500 with 1 Axes>"
      ]
     },
     "metadata": {},
     "output_type": "display_data"
    }
   ],
   "source": [
    "# Create a bar chart of the number of server requests by hour of the day\n",
    "# Create a new column in the pandas dataframe of the hours of the day\n",
    "df_ht_cleaned['Time of day'] = df_ht_cleaned['time'].str[:2]\n",
    "\n",
    "# Create an array of row counts for each of the hours of the day\n",
    "uniqueTimeOfDay, countTimeOfDay = np.unique(df_ht_cleaned['Time of day'], return_counts = True) \n",
    "\n",
    "# Plot a data with a bar chart and export a chart to the png image file for use in the report\n",
    "fig, ax = plt.subplots(figsize = (15,5), dpi = 100) # tao size of chart\n",
    "x_pos = np.arange(len(uniqueTimeOfDay)) # the label locations\n",
    "ax.bar(x_pos,countTimeOfDay, align = 'center') # tao bar bang gia tri cua numvber of requests per hour\n",
    "ax.set_xlabel('Hour of Day') \n",
    "ax.set_ylabel('Number of Server Requests')\n",
    "ax.set_title('Requests per Hour')\n",
    "ax.set_xticks(x_pos, uniqueTimeOfDay)\n",
    "ax.set_xticklabels(uniqueTimeOfDay)\n",
    "#fig.savefig('HitsPerHour.png', bbox_inches='tight')"
   ]
  },
  {
   "cell_type": "code",
   "execution_count": 13,
   "metadata": {},
   "outputs": [
    {
     "data": {
      "image/png": "[encoded data removed]",
      "text/plain": [
       "<Figure size 1500x500 with 1 Axes>"
      ]
     },
     "metadata": {},
     "output_type": "display_data"
    }
   ],
   "source": [
    "#!pip install seaborn\n",
    "import seaborn as sns\n",
    "\n",
    "plt.style.use('ggplot')\n",
    "\n",
    "plt.figure(figsize =(15,5))\n",
    "sns.countplot(x= 'Time of day', data =df_ht_cleaned)\n",
    "\n",
    "plt.ylabel('Request counts', fontsize =16)\n",
    "plt.xlabel('Time Hour',fontsize =16)\n",
    "plt.title(\"Requests and Time Hour (Non-Sorting)\",fontsize =16)\n",
    "plt.show()\n",
    "#plt.savefig('hour_bar_chart_1')"
   ]
  },
  {
   "cell_type": "markdown",
   "metadata": {
    "id": "aFEJDPvEy8ZR"
   },
   "source": [
    "\n",
    "<div class=\"alert alert-block alert-warning\">\n",
    "\n",
    "**Code**: \n",
    "    You are required to filter the hourly requests by removing any below 490,000 and above 400,000. (hourly_request_amount >= 400000 & hourly_request_amount <= 490000)    \n",
    "    <br>\n",
    "</div> \n",
    "\n"
   ]
  },
  {
   "cell_type": "code",
   "execution_count": 14,
   "metadata": {
    "id": "TLArAkrH0rig"
   },
   "outputs": [
    {
     "data": {
      "text/html": [
       "<div>\n",
       "<style scoped>\n",
       "    .dataframe tbody tr th:only-of-type {\n",
       "        vertical-align: middle;\n",
       "    }\n",
       "\n",
       "    .dataframe tbody tr th {\n",
       "        vertical-align: top;\n",
       "    }\n",
       "\n",
       "    .dataframe thead th {\n",
       "        text-align: right;\n",
       "    }\n",
       "</style>\n",
       "<table border=\"1\" class=\"dataframe\">\n",
       "  <thead>\n",
       "    <tr style=\"text-align: right;\">\n",
       "      <th></th>\n",
       "      <th>uniqueTimeOfDay</th>\n",
       "      <th>countTimeOfDay</th>\n",
       "    </tr>\n",
       "  </thead>\n",
       "  <tbody>\n",
       "    <tr>\n",
       "      <th>2</th>\n",
       "      <td>02</td>\n",
       "      <td>432290</td>\n",
       "    </tr>\n",
       "    <tr>\n",
       "      <th>5</th>\n",
       "      <td>05</td>\n",
       "      <td>487330</td>\n",
       "    </tr>\n",
       "    <tr>\n",
       "      <th>10</th>\n",
       "      <td>10</td>\n",
       "      <td>443519</td>\n",
       "    </tr>\n",
       "    <tr>\n",
       "      <th>13</th>\n",
       "      <td>13</td>\n",
       "      <td>442429</td>\n",
       "    </tr>\n",
       "    <tr>\n",
       "      <th>15</th>\n",
       "      <td>15</td>\n",
       "      <td>473057</td>\n",
       "    </tr>\n",
       "  </tbody>\n",
       "</table>\n",
       "</div>"
      ],
      "text/plain": [
       "   uniqueTimeOfDay  countTimeOfDay\n",
       "2               02          432290\n",
       "5               05          487330\n",
       "10              10          443519\n",
       "13              13          442429\n",
       "15              15          473057"
      ]
     },
     "execution_count": 14,
     "metadata": {},
     "output_type": "execute_result"
    }
   ],
   "source": [
    "#Filter the results with the range\n",
    "# create a zip file stored two values then transfer to dataframe\n",
    "hourly_amount = pd.DataFrame(list(zip(uniqueTimeOfDay, countTimeOfDay)), columns = ['uniqueTimeOfDay','countTimeOfDay']) \n",
    "hourly_filtered = hourly_amount.loc[(hourly_amount.countTimeOfDay >= 400000) & (hourly_amount.countTimeOfDay <= 490000)]\n",
    "hourly_filtered"
   ]
  },
  {
   "cell_type": "code",
   "execution_count": 15,
   "metadata": {},
   "outputs": [
    {
     "data": {
      "text/html": [
       "<div>\n",
       "<style scoped>\n",
       "    .dataframe tbody tr th:only-of-type {\n",
       "        vertical-align: middle;\n",
       "    }\n",
       "\n",
       "    .dataframe tbody tr th {\n",
       "        vertical-align: top;\n",
       "    }\n",
       "\n",
       "    .dataframe thead th {\n",
       "        text-align: right;\n",
       "    }\n",
       "</style>\n",
       "<table border=\"1\" class=\"dataframe\">\n",
       "  <thead>\n",
       "    <tr style=\"text-align: right;\">\n",
       "      <th></th>\n",
       "      <th>Time of day</th>\n",
       "      <th>count</th>\n",
       "    </tr>\n",
       "  </thead>\n",
       "  <tbody>\n",
       "    <tr>\n",
       "      <th>7</th>\n",
       "      <td>05</td>\n",
       "      <td>487330</td>\n",
       "    </tr>\n",
       "    <tr>\n",
       "      <th>8</th>\n",
       "      <td>15</td>\n",
       "      <td>473057</td>\n",
       "    </tr>\n",
       "    <tr>\n",
       "      <th>9</th>\n",
       "      <td>10</td>\n",
       "      <td>443519</td>\n",
       "    </tr>\n",
       "    <tr>\n",
       "      <th>10</th>\n",
       "      <td>13</td>\n",
       "      <td>442429</td>\n",
       "    </tr>\n",
       "    <tr>\n",
       "      <th>11</th>\n",
       "      <td>02</td>\n",
       "      <td>432290</td>\n",
       "    </tr>\n",
       "  </tbody>\n",
       "</table>\n",
       "</div>"
      ],
      "text/plain": [
       "   Time of day   count\n",
       "7           05  487330\n",
       "8           15  473057\n",
       "9           10  443519\n",
       "10          13  442429\n",
       "11          02  432290"
      ]
     },
     "execution_count": 15,
     "metadata": {},
     "output_type": "execute_result"
    }
   ],
   "source": [
    "filter_hour = df_ht_cleaned['Time of day'].value_counts().reset_index()\n",
    "filter_hour\n",
    "filter_condition  = filter_hour.loc[(filter_hour['count'] >= 400000) & (filter_hour['count'] <= 490000)]\n",
    "filter_condition"
   ]
  },
  {
   "cell_type": "markdown",
   "metadata": {
    "id": "xwKZ2IAr9IR_"
   },
   "source": [
    "### 2.2 Server Analysis"
   ]
  },
  {
   "cell_type": "markdown",
   "metadata": {
    "id": "n2sojLZStPBh"
   },
   "source": [
    "<div class=\"alert alert-block alert-warning\">\n",
    "\n",
    "**Code**: \n",
    "    Discover on the server status using 'sc-status' from DataFrame, then plot it into Pie Chart. <br>\n",
    "</div> \n",
    "\n",
    "<div class=\"alert alert-block alert-warning\">\n",
    "    1. How many types of status reported? <br>\n",
    "    2. Figure 'Server Status' in pie chart. <br>\n",
    "    2. Figure 'Server Status' in donut chart. <br>\n",
    "</div>"
   ]
  },
  {
   "cell_type": "markdown",
   "metadata": {
    "id": "jOy7bisdx6iB"
   },
   "source": [
    "#### Server Status"
   ]
  },
  {
   "cell_type": "code",
   "execution_count": 30,
   "metadata": {},
   "outputs": [
    {
     "name": "stdout",
     "output_type": "stream",
     "text": [
      "The number of unique server status type:  12\n",
      "\n",
      "\n",
      "-------Server Status Type Count-------\n"
     ]
    },
    {
     "data": {
      "text/html": [
       "<div>\n",
       "<style scoped>\n",
       "    .dataframe tbody tr th:only-of-type {\n",
       "        vertical-align: middle;\n",
       "    }\n",
       "\n",
       "    .dataframe tbody tr th {\n",
       "        vertical-align: top;\n",
       "    }\n",
       "\n",
       "    .dataframe thead th {\n",
       "        text-align: right;\n",
       "    }\n",
       "</style>\n",
       "<table border=\"1\" class=\"dataframe\">\n",
       "  <thead>\n",
       "    <tr style=\"text-align: right;\">\n",
       "      <th></th>\n",
       "      <th>sc-status</th>\n",
       "      <th>count</th>\n",
       "    </tr>\n",
       "  </thead>\n",
       "  <tbody>\n",
       "    <tr>\n",
       "      <th>0</th>\n",
       "      <td>200</td>\n",
       "      <td>6072524</td>\n",
       "    </tr>\n",
       "    <tr>\n",
       "      <th>1</th>\n",
       "      <td>304</td>\n",
       "      <td>2136930</td>\n",
       "    </tr>\n",
       "    <tr>\n",
       "      <th>2</th>\n",
       "      <td>404</td>\n",
       "      <td>142583</td>\n",
       "    </tr>\n",
       "    <tr>\n",
       "      <th>3</th>\n",
       "      <td>206</td>\n",
       "      <td>72472</td>\n",
       "    </tr>\n",
       "    <tr>\n",
       "      <th>4</th>\n",
       "      <td>302</td>\n",
       "      <td>7366</td>\n",
       "    </tr>\n",
       "    <tr>\n",
       "      <th>5</th>\n",
       "      <td>500</td>\n",
       "      <td>2013</td>\n",
       "    </tr>\n",
       "    <tr>\n",
       "      <th>6</th>\n",
       "      <td>403</td>\n",
       "      <td>700</td>\n",
       "    </tr>\n",
       "    <tr>\n",
       "      <th>7</th>\n",
       "      <td>301</td>\n",
       "      <td>433</td>\n",
       "    </tr>\n",
       "    <tr>\n",
       "      <th>8</th>\n",
       "      <td>400</td>\n",
       "      <td>210</td>\n",
       "    </tr>\n",
       "    <tr>\n",
       "      <th>9</th>\n",
       "      <td>501</td>\n",
       "      <td>113</td>\n",
       "    </tr>\n",
       "    <tr>\n",
       "      <th>10</th>\n",
       "      <td>406</td>\n",
       "      <td>54</td>\n",
       "    </tr>\n",
       "    <tr>\n",
       "      <th>11</th>\n",
       "      <td>416</td>\n",
       "      <td>3</td>\n",
       "    </tr>\n",
       "  </tbody>\n",
       "</table>\n",
       "</div>"
      ],
      "text/plain": [
       "   sc-status    count\n",
       "0        200  6072524\n",
       "1        304  2136930\n",
       "2        404   142583\n",
       "3        206    72472\n",
       "4        302     7366\n",
       "5        500     2013\n",
       "6        403      700\n",
       "7        301      433\n",
       "8        400      210\n",
       "9        501      113\n",
       "10       406       54\n",
       "11       416        3"
      ]
     },
     "execution_count": 30,
     "metadata": {},
     "output_type": "execute_result"
    }
   ],
   "source": [
    "# Overview of server status\n",
    "print('The number of unique server status type: ', df_ht_cleaned['sc-status'].nunique())\n",
    "print('\\n\\n-------Server Status Type Count-------')\n",
    "df_ht_cleaned['sc-status'].value_counts().reset_index()"
   ]
  },
  {
   "cell_type": "markdown",
   "metadata": {},
   "source": [
    "##### Plot with pie chart"
   ]
  },
  {
   "cell_type": "code",
   "execution_count": 22,
   "metadata": {
    "id": "9nVWlMSXrHQg"
   },
   "outputs": [
    {
     "data": {
      "text/plain": [
       "<matplotlib.legend.Legend at 0x2ca331c1450>"
      ]
     },
     "execution_count": 22,
     "metadata": {},
     "output_type": "execute_result"
    },
    {
     "data": {
      "image/png": "[encoded data removed]",
      "text/plain": [
       "<Figure size 640x480 with 1 Axes>"
      ]
     },
     "metadata": {},
     "output_type": "display_data"
    }
   ],
   "source": [
    "#find sc-status types with count\n",
    "serverStatus = df_ht_cleaned['sc-status']\n",
    "keywords = df_ht_cleaned['sc-status'].unique()\n",
    "keywordCount = np.zeros(len(keywords))\n",
    "for i in range(len(keywords)):\n",
    "    keywordCount[i] = len(serverStatus[serverStatus[0:].str.endswith(keywords[i])])\n",
    "    \n",
    "# prepare for plotting\n",
    "colors = ['yellowgreen','red','gold','lightskyblue','pink','lightcoral','blue', 'darkgreen','yellow','grey','violet']\n",
    "porcent = 100.*keywordCount/keywordCount.sum()\n",
    "\n",
    "patches, texts = plt.pie(keywordCount, colors=colors, startangle=90, radius=1.2)\n",
    "labels = ['{0} - {1:1.2f} %'.format(i,j) for i,j in zip(keywords, porcent)]\n",
    "\n",
    "# use legend to list all components\n",
    "sort_legend = True\n",
    "if sort_legend:\n",
    "    patches, labels, dummy =  zip(*sorted(zip(patches, labels, keywordCount),\n",
    "                                          key=lambda x: x[2],\n",
    "                                          reverse=True))\n",
    "plt.title(\"Server Status\")\n",
    "plt.legend(patches, labels, bbox_to_anchor=(-0.1, 1.),\n",
    "           fontsize=8)"
   ]
  },
  {
   "cell_type": "markdown",
   "metadata": {},
   "source": [
    "##### Plot with donut chart"
   ]
  },
  {
   "cell_type": "code",
   "execution_count": 33,
   "metadata": {},
   "outputs": [
    {
     "data": {
      "image/png": "[encoded data removed]",
      "text/plain": [
       "<Figure size 800x800 with 1 Axes>"
      ]
     },
     "metadata": {},
     "output_type": "display_data"
    },
    {
     "data": {
      "text/plain": [
       "sc-status\n",
       "200    72.010637\n",
       "304    25.339590\n",
       "404     1.702895\n",
       "206     0.859390\n",
       "302     0.087346\n",
       "500     0.023947\n",
       "403     0.008334\n",
       "301     0.005169\n",
       "400     0.002490\n",
       "501     0.001340\n",
       "406     0.000640\n",
       "416     0.000036\n",
       "Name: count, dtype: float64"
      ]
     },
     "execution_count": 33,
     "metadata": {},
     "output_type": "execute_result"
    }
   ],
   "source": [
    "pie_server = df_ht_cleaned['sc-status'].value_counts()\n",
    "\n",
    "plt.figure(figsize = (8,8))\n",
    "\n",
    "plt.pie(pie_server.values,\n",
    "           shadow = True,\n",
    "        textprops={'fontsize': 13})\n",
    "plt.title('Server Status donut chart', fontsize = 15)\n",
    "\n",
    "plt.legend(labels =pie_server.index )\n",
    "\n",
    "centre_circle = plt.Circle((0,0),0.45,fc='white')\n",
    "fig = plt.gcf()\n",
    "fig.gca().add_artist(centre_circle) \n",
    "\n",
    "plt.show()\n",
    "\n",
    "df_ht['sc-status'].value_counts()*100/ len(df_ht_cleaned['sc-status'])\n"
   ]
  },
  {
   "cell_type": "markdown",
   "metadata": {
    "id": "bxT49TgGpwrw"
   },
   "source": [
    "### 2.3 Geographic Analysis"
   ]
  },
  {
   "cell_type": "markdown",
   "metadata": {
    "id": "MpEve4Zgvtc9"
   },
   "source": [
    "Clinet's IP addresses can reflect geographic information. Since different IP are from different countries even citys, we can find out the demographics information from them. Use **DbIpCity** from **ip2geotools** to find the geolocation information from given IPs.\n",
    "\n",
    "There are some attributes in ip2geotools can help: <br>\n",
    "*ip_address*: IP address <br>\n",
    "*city*: city where IP address is located <br>\n",
    "*region*: region where IP address is located <br>\n",
    "*country*: country where IP address is located (two letters country code) <br>"
   ]
  },
  {
   "cell_type": "markdown",
   "metadata": {
    "id": "AvUQUKGCqLhJ"
   },
   "source": [
    "#### 2.3.A Requests by Country\n",
    "<div class=\"alert alert-block alert-warning\">\n",
    "\n",
    "**Code**: <br>\n",
    "    1. Select all requests at 01 Jan 2007 from 20:00:00 pm to 20:59:59. <br>\n",
    "    2. Discover on the demographics by analysing requests from country level. <br>\n",
    "    3. Plot countries of all requests in pie chart. <br>\n",
    "    4. List top 3 with the numbers of requests. <br>\n",
    "</div> \n",
    "\n",
    "<div class=\"alert alert-block alert-warning\">\n",
    "    1. How many requests raised in the period of time? <br>\n",
    "    2. How many countries are invlolved? <br>\n",
    "    3. Figure 'Request by Country' in pie chart. <br>\n",
    "    4. Top 3 countries with request numbers. <br>\n",
    "</div>"
   ]
  },
  {
   "cell_type": "code",
   "execution_count": null,
   "metadata": {
    "id": "g1UvjRlOVjy0"
   },
   "outputs": [],
   "source": [
    "#!pip install ip2geotools"
   ]
  },
  {
   "cell_type": "code",
   "execution_count": 44,
   "metadata": {
    "id": "jSdycFyYzybd"
   },
   "outputs": [
    {
     "data": {
      "text/plain": [
       "214"
      ]
     },
     "execution_count": 44,
     "metadata": {},
     "output_type": "execute_result"
    }
   ],
   "source": [
    "from ip2geotools.databases.noncommercial import DbIpCity\n",
    "#select required requests\n",
    "df_geo = df_ht_cleaned[[\"c-ip\", \"date\", \"Time of day\"]]\n",
    "df_loc = df_geo[df_geo[\"date\"].str.contains(\"2007-01-01\")]\n",
    "df_loc = df_loc[df_loc[\"Time of day\"].str.contains(\"20\")]\n",
    "len(df_loc)"
   ]
  },
  {
   "cell_type": "code",
   "execution_count": 38,
   "metadata": {},
   "outputs": [],
   "source": [
    "#find all countries\n",
    "df_loc['Country'] = df_loc.apply(lambda row: DbIpCity.get(row['c-ip'], api_key='free').country, axis=1)"
   ]
  },
  {
   "cell_type": "code",
   "execution_count": 39,
   "metadata": {
    "id": "xN21MLq7x6Cf"
   },
   "outputs": [
    {
     "data": {
      "text/plain": [
       "<matplotlib.legend.Legend at 0x2ca45e38990>"
      ]
     },
     "execution_count": 39,
     "metadata": {},
     "output_type": "execute_result"
    },
    {
     "data": {
      "image/png": "[encoded data removed]",
      "text/plain": [
       "<Figure size 640x480 with 1 Axes>"
      ]
     },
     "metadata": {},
     "output_type": "display_data"
    }
   ],
   "source": [
    "# Create a pie chart of the country values\n",
    "#\n",
    "# Compute the row counts for each file type \n",
    "country = df_loc['Country']\n",
    "Keywords= df_loc['Country'].unique()\n",
    "KeywordCount = np.zeros(len(Keywords))\n",
    "for i in range(len(Keywords)):\n",
    "    KeywordCount[i] = len(country[country[0:].str.endswith(Keywords[i])])\n",
    "\n",
    "colors = ['yellowgreen','red','gold','lightskyblue','pink','lightcoral','blue', 'darkgreen','yellow','grey','violet']\n",
    "porcent = 100.*KeywordCount/KeywordCount.sum()\n",
    "\n",
    "patches, texts = plt.pie(KeywordCount, colors=colors, startangle=90, radius=1.2)\n",
    "labels = ['{0} - {1:1.2f} %'.format(i,j) for i,j in zip(Keywords, porcent)]\n",
    "\n",
    "sort_legend = True\n",
    "if sort_legend:\n",
    "    patches, labels, dummy =  zip(*sorted(zip(patches, labels, KeywordCount),\n",
    "                                          key=lambda x: x[2],\n",
    "                                          reverse=True))\n",
    "plt.title(\"Request by Country\")\n",
    "plt.legend(patches, labels, bbox_to_anchor=(-0.1, 1.),\n",
    "           fontsize=8)\n"
   ]
  },
  {
   "cell_type": "markdown",
   "metadata": {
    "id": "Qhf-g91_umxF"
   },
   "source": [
    "#### 2.3.B Requests by City\n",
    "<div class=\"alert alert-block alert-warning\">\n",
    "\n",
    "**Code**: \n",
    "   <br>\n",
    "    1. Discover on the demographics by analysing requests from city level. <br>\n",
    "    2. Plot cities of all requests in pie chart. <br>\n",
    "    3. List top 3 with the numbers of requests. <br>\n",
    "</div> \n",
    "\n",
    "<div class=\"alert alert-block alert-warning\">\n",
    "    \n",
    "**Report**: \n",
    " <br>\n",
    "    1. How many cites are invlolved? <br>\n",
    "    2. Figure 'Request by City' in pie chart. <br>\n",
    "    3. Top 3 cities with request numbers. <br>\n",
    "</div>"
   ]
  },
  {
   "cell_type": "code",
   "execution_count": 45,
   "metadata": {
    "id": "g7p39EpEBqaj"
   },
   "outputs": [],
   "source": [
    "#find all cities\n",
    "df_loc['City'] = df_loc.apply(lambda row: DbIpCity.get(row['c-ip'], api_key='free').city, axis=1)"
   ]
  },
  {
   "cell_type": "code",
   "execution_count": 46,
   "metadata": {},
   "outputs": [
    {
     "data": {
      "text/plain": [
       "<matplotlib.legend.Legend at 0x2cac55c8c90>"
      ]
     },
     "execution_count": 46,
     "metadata": {},
     "output_type": "execute_result"
    },
    {
     "data": {
      "image/png": "[encoded data removed]",
      "text/plain": [
       "<Figure size 640x480 with 1 Axes>"
      ]
     },
     "metadata": {},
     "output_type": "display_data"
    }
   ],
   "source": [
    "# Create a pie chart of the city values\n",
    "#\n",
    "# Compute the row counts for each file type \n",
    "country = df_loc['City']\n",
    "Keywords= df_loc['City'].unique()\n",
    "KeywordCount = np.zeros(len(Keywords))\n",
    "for i in range(len(Keywords)):\n",
    "    KeywordCount[i] = len(country[country[0:].str.endswith(Keywords[i])])\n",
    "\n",
    " \n",
    "colors = ['yellowgreen','red','gold','lightskyblue','pink','lightcoral','blue', 'darkgreen','yellow','grey','violet']\n",
    "porcent = 100.*KeywordCount/KeywordCount.sum()\n",
    "\n",
    "patches, texts = plt.pie(KeywordCount, colors=colors, startangle=90, radius=1.2)\n",
    "labels = ['{0} - {1:1.2f} %'.format(i,j) for i,j in zip(Keywords, porcent)]\n",
    "\n",
    "sort_legend = True\n",
    "if sort_legend:\n",
    "    patches, labels, dummy =  zip(*sorted(zip(patches, labels, KeywordCount),\n",
    "                                          key=lambda x: x[2],\n",
    "                                          reverse=True))\n",
    "plt.title(\"Request by City\")\n",
    "plt.legend(patches, labels, bbox_to_anchor=(-0.1, 1.),\n",
    "           fontsize=8)"
   ]
  }
 ],
 "metadata": {
  "colab": {
   "collapsed_sections": [],
   "name": "SIT742Task1.ipynb",
   "provenance": [],
   "toc_visible": true
  },
  "kernelspec": {
   "display_name": "Python 3 (ipykernel)",
   "language": "python",
   "name": "python3"
  },
  "language_info": {
   "codemirror_mode": {
    "name": "ipython",
    "version": 3
   },
   "file_extension": ".py",
   "mimetype": "text/x-python",
   "name": "python",
   "nbconvert_exporter": "python",
   "pygments_lexer": "ipython3",
   "version": "3.11.5"
  },
  "name": "SampleCode",
  "notebookId": 2691131752868967
 },
 "nbformat": 4,
 "nbformat_minor": 1
}
