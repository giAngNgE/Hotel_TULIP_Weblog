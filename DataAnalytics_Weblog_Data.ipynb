{
 "cells": [
  {
   "cell_type": "markdown",
   "metadata": {
    "id": "gamCnd8GKEJ7"
   },
   "source": [
    "## 1.Data ETL"
   ]
  },
  {
   "cell_type": "markdown",
   "metadata": {
    "id": "GKsVmaDiZOwr"
   },
   "source": []
  },
  {
   "cell_type": "markdown",
   "metadata": {
    "id": "z6Ro64a9KNWs"
   },
   "source": [
    "### 1.1 Load Data"
   ]
  },
  {
   "cell_type": "code",
   "execution_count": null,
   "metadata": {
    "id": "37Nq2m64KP0N"
   },
   "outputs": [],
   "source": [
    "from google.colab import drive\n",
    "drive.mount('/content/drive')"
   ]
  },
  {
   "cell_type": "code",
   "execution_count": null,
   "metadata": {
    "id": "KbiVTxuZrneP"
   },
   "outputs": [],
   "source": [
    "import matplotlib.pyplot as plt\n",
    "import numpy as np\n",
    "import pandas as pd\n",
    "import time\n",
    "import datetime\n",
    "from scipy import stats\n",
    "import matplotlib\n",
    "import csv\n",
    "import re"
   ]
  },
  {
   "cell_type": "code",
   "execution_count": null,
   "metadata": {
    "colab": {
     "base_uri": "https://localhost:8080/",
     "height": 66,
     "referenced_widgets": [
      "40692df64bc24bcb92902b14acd33e57",
      "a13f38b3245241e58d6d5da71bd4e68a",
      "d9f4bc347fe54af388fb04f322cf373c"
     ]
    },
    "id": "M4RAAnpnKS8d",
    "outputId": "0fc8f2a3-41c3-4df2-806b-d123e2f7cde3"
   },
   "outputs": [
    {
     "data": {
      "application/vnd.jupyter.widget-view+json": {
       "model_id": "40692df64bc24bcb92902b14acd33e57",
       "version_major": 2,
       "version_minor": 0
      },
      "text/plain": [
       "IntProgress(value=0, description='Loading:', max=120)"
      ]
     },
     "metadata": {
      "tags": []
     },
     "output_type": "display_data"
    },
    {
     "name": "stdout",
     "output_type": "stream",
     "text": [
      "Finished loading 120 web log files.\n"
     ]
    }
   ],
   "source": [
    "from ipywidgets import IntProgress\n",
    "import pandas as pd\n",
    "from IPython.display import display\n",
    "from zipfile import ZipFile\n",
    "\n",
    "\n",
    "all_files = ZipFile('/content/drive/MyDrive/HTWebLog_p1.zip', 'r')\n",
    "files = all_files.namelist()\n",
    "\n",
    "data = []\n",
    "# Define the column names\n",
    "ColumnNames=['date','time','s-sitename','s-ip','cs-method','cs-uri-stem','cs-uri-query','s-port','cs-username',\n",
    "             'c-ip','cs(User-Agent)','cs(Referer)','sc-status','sc-substatus','sc-win32-status']\n",
    "# Create a progress bar to track progress (importing data can take several minutes)\n",
    "ProgressBar = IntProgress(value=0,min=0,max=len(files),step=1,\n",
    "                          description='Loading:',bar_style='',orientation='horizontal')\n",
    "display(ProgressBar)\n",
    "# Read each of the files using the pandas read csv function within a 'for loop'\n",
    "# and set data to str for each column to ensure all data loads\n",
    "for name in all_files.namelist():\n",
    "    ProgressBar.value += 1\n",
    "    load_file = pd.read_csv(all_files.open(name),\n",
    "                            delim_whitespace=True,\n",
    "                            na_values='-',\n",
    "                            skiprows = 4,\n",
    "                            usecols=[0,1,2,3,4,5,6,7,8,9,10,11,12,13,14],\n",
    "                            header=None,\n",
    "                            encoding='iso-8859-1',\n",
    "                            names=ColumnNames,\n",
    "                            error_bad_lines=False,\n",
    "                            warn_bad_lines=False,\n",
    "                            dtype={'date': str,'time': str,'s-sitename': str, 's-ip': str,'cs-method': str,'cs-uri-stem': str,\n",
    "                                   'cs-uri-query': str,'s-port': str,'cs-username': str,'c-ip': str,'cs(User-Agent)': str,\n",
    "                                   'cs(Referer)': str, 'sc-status': str,'sc-substatus': str,'sc-win32-status': str})\n",
    "    \n",
    "    # There are rows with \"#\" in files, drop rows starts with \"#\"\n",
    "    load_file = load_file[~load_file['date'].str.startswith(\"#\")]\n",
    "    \n",
    "    data.append(load_file)\n",
    "\n",
    "# Concatenate all the pandas dataframes into a single dataframe\n",
    "df_ht = pd.concat(data)\n",
    "\n",
    "\n",
    "print ('Finished loading', ProgressBar.value, 'web log files.')\n"
   ]
  },
  {
   "cell_type": "code",
   "execution_count": null,
   "metadata": {
    "colab": {
     "base_uri": "https://localhost:8080/"
    },
    "id": "as6E2j4nrbc3",
    "outputId": "3a399ced-7256-4ab0-986c-e1c4ac5f37ad"
   },
   "outputs": [
    {
     "name": "stdout",
     "output_type": "stream",
     "text": [
      "\n",
      "\n",
      "--------------------------\n",
      "The number of unique date: 121\n",
      "date :\n",
      "2006-12-12    120190\n",
      "2006-11-27    120019\n",
      "2006-12-14    118609\n",
      "2006-12-13    117075\n",
      "2006-12-08    113063\n",
      "               ...  \n",
      "2007-02-18     30750\n",
      "2007-01-01     30355\n",
      "2006-12-31     29400\n",
      "2007-02-17     26484\n",
      "2007-03-01         1\n",
      "Name: date, Length: 121, dtype: int64 \n",
      "\n",
      "\n",
      "\n",
      "--------------------------\n",
      "The number of unique time: 86372\n",
      "time :\n",
      "08:37:00    382\n",
      "09:55:14    375\n",
      "09:13:05    358\n",
      "04:41:05    349\n",
      "06:30:22    343\n",
      "           ... \n",
      "20:32:46      1\n",
      "23:19:32      1\n",
      "22:38:01      1\n",
      "23:40:44      1\n",
      "21:14:12      1\n",
      "Name: time, Length: 86372, dtype: int64 \n",
      "\n",
      "\n",
      "\n",
      "--------------------------\n",
      "The number of unique s-sitename: 1\n",
      "s-sitename :\n",
      "W3SVC1    8438928\n",
      "Name: s-sitename, dtype: int64 \n",
      "\n",
      "\n",
      "\n",
      "--------------------------\n",
      "The number of unique s-ip: 1\n",
      "s-ip :\n",
      "127.0.0.1    8438928\n",
      "Name: s-ip, dtype: int64 \n",
      "\n",
      "\n",
      "\n",
      "--------------------------\n",
      "The number of unique cs-method: 6\n",
      "cs-method :\n",
      "GET         8421984\n",
      "POST           9509\n",
      "HEAD           6723\n",
      "OPTIONS         595\n",
      "PROPFIND        106\n",
      "PUT              11\n",
      "Name: cs-method, dtype: int64 \n",
      "\n",
      "\n",
      "\n",
      "--------------------------\n",
      "The number of unique cs-uri-stem: 4761\n",
      "cs-uri-stem :\n",
      "/Tulip/common/common_style.aspx                                                       402987\n",
      "/Tulip/includes/js/CommonUtil.js                                                      127704\n",
      "/Tulip/common/images/top_bar.jpg                                                      125764\n",
      "/Tulip/common/images/spacer.gif                                                       105486\n",
      "/Tulip/common/images/bar_1.gif                                                        100641\n",
      "                                                                                       ...  \n",
      "/admin/webdb/main.php                                                                      1\n",
      "/Tulip/dining/en-us/dining_lescelebrites.aspx_files/sectionbanner_whatsnew_off.gif         1\n",
      "/promotion/FP01503_4.jpg                                                                   1\n",
      "/readchapter.php                                                                           1\n",
      "/Tulip/aboutus/hk/aboutus_virtualtour.aspx                                                 1\n",
      "Name: cs-uri-stem, Length: 4761, dtype: int64 \n",
      "\n",
      "\n",
      "\n",
      "--------------------------\n",
      "The number of unique cs-uri-query: 1987\n",
      "cs-uri-query :\n",
      "lang=en-us                231265\n",
      "lang=zh-hk                191196\n",
      "lang=ja                    51295\n",
      "pageId=164&lang=zh-hk       8336\n",
      "lang=zh-cn                  8044\n",
      "                           ...  \n",
      "pageId=174&amp;lang=ja         1\n",
      "lang=en-us&refid=2366          1\n",
      "lang=zh-hk&refid=2199          1\n",
      "lang=en-us&refid=2363          1\n",
      "lang=en-us&pageid=129          1\n",
      "Name: cs-uri-query, Length: 1987, dtype: int64 \n",
      "\n",
      "\n",
      "\n",
      "--------------------------\n",
      "The number of unique s-port: 1\n",
      "s-port :\n",
      "80    8438928\n",
      "Name: s-port, dtype: int64 \n",
      "\n",
      "\n",
      "\n",
      "--------------------------\n",
      "The number of unique cs-username: 0\n",
      "cs-username :\n",
      "Series([], Name: cs-username, dtype: int64) \n",
      "\n",
      "\n",
      "\n",
      "--------------------------\n",
      "The number of unique c-ip: 74548\n",
      "c-ip :\n",
      "59.188.33.66       93769\n",
      "210.184.71.81      92460\n",
      "202.181.238.254    29934\n",
      "158.132.12.80      18743\n",
      "211.72.233.8       16319\n",
      "                   ...  \n",
      "220.246.193.79         1\n",
      "71.108.189.19          1\n",
      "218.166.148.78         1\n",
      "61.219.36.20           1\n",
      "218.253.64.46          1\n",
      "Name: c-ip, Length: 74548, dtype: int64 \n",
      "\n",
      "\n",
      "\n",
      "--------------------------\n",
      "The number of unique cs(User-Agent): 4958\n",
      "cs(User-Agent) :\n",
      "Mozilla/4.0+(compatible;+MSIE+6.0;+Windows+NT+5.1;+SV1;+.NET+CLR+1.1.4322)                                1982248\n",
      "Mozilla/4.0+(compatible;+MSIE+6.0;+Windows+NT+5.1;+SV1)                                                   1606612\n",
      "Mozilla/4.0+(compatible;+MSIE+6.0;+Windows+NT+5.1)                                                         600946\n",
      "Mozilla/4.0+(compatible;+MSIE+6.0;+Windows+NT+5.1;+SV1;+.NET+CLR+1.1.4322;+.NET+CLR+2.0.50727)             344081\n",
      "Mozilla/4.0+(compatible;+MSIE+6.0;+Windows+NT+5.0)                                                         291188\n",
      "                                                                                                           ...   \n",
      "Mozilla/5.0+(compatible;+Konqueror/3.0-rc2;+i686+Linux;+20020423)                                               1\n",
      "Mozilla/4.0+(compatible;+MSIE+6.0;+Windows+NT+5.0;+T312461;+CMS+Music+Store2+v1.00.13+(­µ¼Ö°Ó©±,1028))          1\n",
      "Mozilla/4.0+(compatible;+MSIE+6.0;+Windows+NT+5.1;+SV1;+UBIS-RESNET+2.0;+.NET+CLR+2.0.50727)                    1\n",
      "hl_ftien_spider_v1.1                                                                                            1\n",
      "Mozilla/5.0+(compatible;+DNS-Digger-Explorer/1.0;++http://www.dnsdigger.com)                                    1\n",
      "Name: cs(User-Agent), Length: 4958, dtype: int64 \n",
      "\n",
      "\n",
      "\n",
      "--------------------------\n",
      "The number of unique cs(Referer): 39714\n",
      "cs(Referer) :\n",
      "http://www.hotelTulip.com.hk/Tulip/home/en-us/home_index.aspx                                                                                                                                                 1618649\n",
      "http://www.hotelTulip.com.hk/Tulip/home/zh-hk/home_index.aspx                                                                                                                                                  491233\n",
      "http://www.hotelTulip.com.hk/Tulip/whatsnew/whatsnew_foodindex.aspx?lang=zh-hk                                                                                                                                 377525\n",
      "http://www.hotelTulip.com.hk/Tulip/dining/zh-hk/dining_cafeserena.aspx                                                                                                                                         304718\n",
      "http://www.hotelTulip.com.hk/Tulip/dining/en-us/dining_cafeserena.aspx                                                                                                                                         250985\n",
      "                                                                                                                                                                                                               ...   \n",
      "http://hk.f307.mail.yahoo.com/ym/ShowLetter?box=Inbox&MsgId=279_46619429_834526_1755_3213_0_39509_9679_3704023120&NEXT=1&inc=&num=&Idx=0&Search=&YY=66539&y5beta=yes&y5beta=yes&order=down&sort=date&pos=0          1\n",
      "http://www.google.ru/search?sourceid=navclient&aq=t&ie=UTF-8&rls=GGLJ,GGLJ:2006-37,GGLJ:en&q=hotel+in+hong+kong                                                                                                     1\n",
      "http://search.yahoo.com/search;_ylt=A0oGkkBVM7xFUywBfz9XNyoA?p=Tulip+hotel&ei=UTF-8&fr=ieas-dns-tb&x=wrt                                                                                                            1\n",
      "http://hnk.nwtbb.com/common_ip_cgi/Services/services.cgi?SESSION=9e88b4e59fec09e4e1ad705d3bf05a55&LANG_CHOICE=English                                                                                               1\n",
      "http://www.google.com/search?sourceid=navclient&ie=UTF-8&rls=RNWE,RNWE:2005-08,RNWE:en&q=Tulip+hotel+hong+kong                                                                                                      1\n",
      "Name: cs(Referer), Length: 39714, dtype: int64 \n",
      "\n",
      "\n",
      "\n",
      "--------------------------\n",
      "The number of unique sc-status: 12\n",
      "sc-status :\n",
      "200    6074386\n",
      "304    2137496\n",
      "404     143646\n",
      "206      72493\n",
      "302       7368\n",
      "500       2020\n",
      "403        703\n",
      "301        436\n",
      "400        210\n",
      "501        113\n",
      "406         54\n",
      "416          3\n",
      "Name: sc-status, dtype: int64 \n",
      "\n",
      "\n",
      "\n",
      "--------------------------\n",
      "The number of unique sc-substatus: 4\n",
      "sc-substatus :\n",
      "0     8438223\n",
      "14        676\n",
      "1          27\n",
      "2           2\n",
      "Name: sc-substatus, dtype: int64 \n",
      "\n",
      "\n",
      "\n",
      "--------------------------\n",
      "The number of unique sc-win32-status: 14\n",
      "sc-win32-status :\n",
      "0       8057000\n",
      "64       241836\n",
      "2         98315\n",
      "3         29312\n",
      "1236       6442\n",
      "121        2399\n",
      "22         1678\n",
      "123        1288\n",
      "5           621\n",
      "1231         19\n",
      "1232         12\n",
      "1229          3\n",
      "1260          2\n",
      "1234          1\n",
      "Name: sc-win32-status, dtype: int64 \n",
      "\n"
     ]
    }
   ],
   "source": [
    "#insepct dataset each column\n",
    "for col in df_ht.columns:\n",
    "      print('\\n\\n--------------------------')\n",
    "      print('The number of unique {}:'.format(col),df_ht[col].nunique() )\n",
    "      print(col, \":\")\n",
    "      print(df_ht[col].value_counts(), \"\\n\")"
   ]
  },
  {
   "cell_type": "markdown",
   "metadata": {
    "id": "SmbO0UE1KrvL"
   },
   "source": [
    "In order to reduce the processing time, we will remove all missing values for data and only select 30% of total data for classification. \n",
    "\n",
    "\n",
    "    1. Remove all NAs, for the columns, if the column is with 15% NAs, I remove that column. Then, for the rows, if there are any NAs in that row, I remove that row as well.  \n",
    "    2. Select 30 % of the total data in to a new dataframe weblog_df.\n",
    "\n",
    "**Report**:\n",
    "    The number of requests in weblog\\_df.\n"
   ]
  },
  {
   "cell_type": "code",
   "execution_count": null,
   "metadata": {
    "colab": {
     "base_uri": "https://localhost:8080/"
    },
    "id": "1hSWmN4Yq1K4",
    "outputId": "20e88b87-6203-4570-9b38-55be0ab02693"
   },
   "outputs": [
    {
     "name": "stdout",
     "output_type": "stream",
     "text": [
      "date                     0\n",
      "time                     0\n",
      "s-sitename               0\n",
      "s-ip                     0\n",
      "cs-method                0\n",
      "cs-uri-stem              0\n",
      "cs-uri-query       7886532\n",
      "s-port                   0\n",
      "cs-username        8438928\n",
      "c-ip                     0\n",
      "cs(User-Agent)        3527\n",
      "cs(Referer)        1308994\n",
      "sc-status                0\n",
      "sc-substatus             0\n",
      "sc-win32-status          0\n",
      "dtype: int64\n"
     ]
    }
   ],
   "source": [
    "#Your code to remove missing values as required.\n",
    "#missing counts by column\n",
    "print(df_ht.isnull().sum(axis=0))\n"
   ]
  },
  {
   "cell_type": "code",
   "execution_count": null,
   "metadata": {
    "colab": {
     "base_uri": "https://localhost:8080/"
    },
    "id": "yYVpvM37rtOk",
    "outputId": "e445d181-2624-4283-8c86-93c456d27e4f"
   },
   "outputs": [
    {
     "name": "stdout",
     "output_type": "stream",
     "text": [
      "           columns  % percent of missing value\n",
      "8      cs-username                  100.000000\n",
      "6     cs-uri-query                   93.454192\n",
      "11     cs(Referer)                   15.511378\n",
      "10  cs(User-Agent)                    0.041794\n"
     ]
    }
   ],
   "source": [
    "#missing value percentage\n",
    "missing_value = (df_ht.isnull().sum(axis=0)*100/len(df_ht))\\\n",
    "                    .reset_index().rename(\n",
    "                      columns = {\"index\": \"columns\", \n",
    "                                 0: \"% percent of missing value\"})\\\n",
    "                          .sort_values(\n",
    "                              by=\"% percent of missing value\", \n",
    "                              ascending=False)\n",
    "\n",
    "print(missing_value[missing_value['% percent of missing value'] != 0])"
   ]
  },
  {
   "cell_type": "code",
   "execution_count": null,
   "metadata": {
    "colab": {
     "base_uri": "https://localhost:8080/"
    },
    "id": "ZNG0BPTMrvlm",
    "outputId": "4717b120-cdcf-4b44-ce8c-bf383c4d3c85"
   },
   "outputs": [
    {
     "name": "stdout",
     "output_type": "stream",
     "text": [
      "After dropping columns above 15% missing values\n",
      "\n",
      "date                  0\n",
      "time                  0\n",
      "s-sitename            0\n",
      "s-ip                  0\n",
      "cs-method             0\n",
      "cs-uri-stem           0\n",
      "s-port                0\n",
      "c-ip                  0\n",
      "cs(User-Agent)     3527\n",
      "sc-status             0\n",
      "sc-substatus          0\n",
      "sc-win32-status       0\n",
      "dtype: int64\n",
      "(8438928, 12)\n"
     ]
    }
   ],
   "source": [
    "# remove columns have above 15% missing value\n",
    "drop_columns = list(missing_value[missing_value['% percent of missing value'] > 15]['columns'])\n",
    "\n",
    "print('After dropping columns above 15% missing values\\n')\n",
    "df_ht.drop(columns = drop_columns , axis =1, inplace = True)\n",
    "\n",
    "print(df_ht.isnull().sum())\n",
    "print(df_ht.shape)"
   ]
  },
  {
   "cell_type": "code",
   "execution_count": null,
   "metadata": {
    "colab": {
     "base_uri": "https://localhost:8080/"
    },
    "id": "HIjotxgnryoj",
    "outputId": "ee1b0c81-2d1a-4a78-d092-f414e26e7c6c"
   },
   "outputs": [
    {
     "name": "stdout",
     "output_type": "stream",
     "text": [
      "After drop any records with mising value\n",
      "\n",
      "date               0\n",
      "time               0\n",
      "s-sitename         0\n",
      "s-ip               0\n",
      "cs-method          0\n",
      "cs-uri-stem        0\n",
      "s-port             0\n",
      "c-ip               0\n",
      "cs(User-Agent)     0\n",
      "sc-status          0\n",
      "sc-substatus       0\n",
      "sc-win32-status    0\n",
      "dtype: int64\n"
     ]
    }
   ],
   "source": [
    "#remove any records with missing values\n",
    "df_ht.dropna( axis=0 , how = 'any',inplace = True)\n",
    "print('After drop any records with mising value\\n')\n",
    "print(df_ht.isnull().sum())"
   ]
  },
  {
   "cell_type": "code",
   "execution_count": null,
   "metadata": {
    "colab": {
     "base_uri": "https://localhost:8080/"
    },
    "id": "B-iUbusWr1Br",
    "outputId": "6cc62645-2022-4e72-a25b-df041d27b2b2"
   },
   "outputs": [
    {
     "data": {
      "text/plain": [
       "(8435401, 12)"
      ]
     },
     "execution_count": 8,
     "metadata": {
      "tags": []
     },
     "output_type": "execute_result"
    }
   ],
   "source": [
    "df_ht.shape"
   ]
  },
  {
   "cell_type": "code",
   "execution_count": null,
   "metadata": {
    "colab": {
     "base_uri": "https://localhost:8080/",
     "height": 473
    },
    "id": "_KzcKdcmKzMR",
    "outputId": "2a107243-6dd5-41d2-c871-033bb2499bfb"
   },
   "outputs": [
    {
     "data": {
      "image/png": "[encoded data removed]",
      "text/plain": [
       "<Figure size 1500x500 with 1 Axes>"
      ]
     },
     "metadata": {
      "needs_background": "light",
      "tags": []
     },
     "output_type": "display_data"
    }
   ],
   "source": [
    "# only 30% of total data are selected for classification\n",
    "weblog_df = df_ht.sample(frac = 0.3, random_state=1)\n",
    "\n",
    "# show the number of requests in weblog_df\n",
    "# Create a bar chart of the number of server requests by hour of the day\n",
    "\n",
    "# Create a new column in the pandas dataframe of the hour-of-the-day\n",
    "weblog_df['TimeOfDay'] = weblog_df['time'].str[:2]\n",
    "\n",
    "# Create an array of row counts for each of the hours-of-the-day\n",
    "uniqueTimeOfDay, countTimeOfDay = np.unique(weblog_df['TimeOfDay'], return_counts=True)\n",
    "\n",
    "# Plot data with a bar chart and export the chart to a png image file for use in a report\n",
    "fig, ax = plt.subplots(figsize=(15, 5), dpi=100)\n",
    "x_pos = np.arange(len(countTimeOfDay))\n",
    "ax.bar(x_pos, countTimeOfDay, align='center')\n",
    "ax.set_xlabel('Hour of Day (UTC)')\n",
    "ax.set_ylabel('Number of Server Requests')\n",
    "ax.set_title('Requests per Hour')\n",
    "ax.set_xticks(x_pos)\n",
    "ax.set_xticklabels(uniqueTimeOfDay)\n",
    "fig.savefig('HitsPerHour.png', bbox_inches='tight')\n"
   ]
  },
  {
   "cell_type": "markdown",
   "metadata": {},
   "source": [
    "##### The figure above displays that the highest numbers of requests in weblog_df are 03, 06, 08 and 09 (around 160,000) while the lowest are 20, 21 and 22 (around 20,000)."
   ]
  },
  {
   "cell_type": "markdown",
   "metadata": {
    "id": "qaKs1Ic5Ln8F"
   },
   "source": [
    "### 1.2 Feature Selection\n",
    "\n",
    "**Code**: \n",
    "    Select *'cs_method'*,*'c_ip'*,*'cs_uri_stem'*,*'cs(User_Agent)'* as input features  and 'sc_status' as class label into a new dataframe ml_df for following Machine Learning Tasks. \n",
    "\n",
    "**Report**: <br>\n",
    "    1. Data Description of ml_df,  \n",
    "    2. Print top 5 rows of ml_df.\n",
    "\n"
   ]
  },
  {
   "cell_type": "code",
   "execution_count": null,
   "metadata": {
    "colab": {
     "base_uri": "https://localhost:8080/",
     "height": 204
    },
    "id": "begZOxggN2A8",
    "outputId": "d11a4673-8f7b-4b5a-bb04-a5f77d5b9508"
   },
   "outputs": [
    {
     "data": {
      "text/html": [
       "<div>\n",
       "<style scoped>\n",
       "    .dataframe tbody tr th:only-of-type {\n",
       "        vertical-align: middle;\n",
       "    }\n",
       "\n",
       "    .dataframe tbody tr th {\n",
       "        vertical-align: top;\n",
       "    }\n",
       "\n",
       "    .dataframe thead th {\n",
       "        text-align: right;\n",
       "    }\n",
       "</style>\n",
       "<table border=\"1\" class=\"dataframe\">\n",
       "  <thead>\n",
       "    <tr style=\"text-align: right;\">\n",
       "      <th></th>\n",
       "      <th>cs-method</th>\n",
       "      <th>c-ip</th>\n",
       "      <th>cs-uri-stem</th>\n",
       "      <th>cs(User-Agent)</th>\n",
       "      <th>sc-status</th>\n",
       "    </tr>\n",
       "  </thead>\n",
       "  <tbody>\n",
       "    <tr>\n",
       "      <th>25357</th>\n",
       "      <td>GET</td>\n",
       "      <td>218.102.231.100</td>\n",
       "      <td>/Tulip/common/en-us/images/topmenu_zh-hk.gif</td>\n",
       "      <td>Mozilla/4.0+(compatible;+MSIE+6.0;+Windows+NT+...</td>\n",
       "      <td>200</td>\n",
       "    </tr>\n",
       "    <tr>\n",
       "      <th>89819</th>\n",
       "      <td>GET</td>\n",
       "      <td>218.190.226.30</td>\n",
       "      <td>/Tulip/common/en-us/images/top_logo.gif</td>\n",
       "      <td>Mozilla/4.0+(compatible;+MSIE+6.0;+Windows+NT+...</td>\n",
       "      <td>200</td>\n",
       "    </tr>\n",
       "    <tr>\n",
       "      <th>19333</th>\n",
       "      <td>GET</td>\n",
       "      <td>203.241.147.26</td>\n",
       "      <td>/Tulip/common/en-us/images/sectionbanner_about...</td>\n",
       "      <td>Mozilla/4.0+(compatible;+MSIE+6.0;+Windows+NT+...</td>\n",
       "      <td>304</td>\n",
       "    </tr>\n",
       "    <tr>\n",
       "      <th>29761</th>\n",
       "      <td>GET</td>\n",
       "      <td>203.85.132.97</td>\n",
       "      <td>/Tulip/public/2899_2.jpg</td>\n",
       "      <td>Mozilla/4.0+(compatible;+MSIE+6.0;+Windows+NT+...</td>\n",
       "      <td>200</td>\n",
       "    </tr>\n",
       "    <tr>\n",
       "      <th>52909</th>\n",
       "      <td>GET</td>\n",
       "      <td>218.186.9.5</td>\n",
       "      <td>/Tulip/common/en-us/images/topmenu_zh-hk.gif</td>\n",
       "      <td>Mozilla/4.0+(compatible;+MSIE+6.0;+Windows+NT+...</td>\n",
       "      <td>200</td>\n",
       "    </tr>\n",
       "  </tbody>\n",
       "</table>\n",
       "</div>"
      ],
      "text/plain": [
       "      cs-method  ... sc-status\n",
       "25357       GET  ...       200\n",
       "89819       GET  ...       200\n",
       "19333       GET  ...       304\n",
       "29761       GET  ...       200\n",
       "52909       GET  ...       200\n",
       "\n",
       "[5 rows x 5 columns]"
      ]
     },
     "execution_count": 11,
     "metadata": {
      "tags": []
     },
     "output_type": "execute_result"
    }
   ],
   "source": [
    "# feature selection\n",
    "ml_df = weblog_df[['cs-method','c-ip','cs-uri-stem','cs(User-Agent)','sc-status']]\n",
    "\n",
    "# show the top 5 rows of ml_df\n",
    "ml_df.head(5)"
   ]
  },
  {
   "cell_type": "code",
   "execution_count": null,
   "metadata": {
    "colab": {
     "base_uri": "https://localhost:8080/",
     "height": 173
    },
    "id": "6MU6GPTHr_s_",
    "outputId": "088bec6d-c7ad-401d-bbbd-7031d314bd57"
   },
   "outputs": [
    {
     "data": {
      "text/html": [
       "<div>\n",
       "<style scoped>\n",
       "    .dataframe tbody tr th:only-of-type {\n",
       "        vertical-align: middle;\n",
       "    }\n",
       "\n",
       "    .dataframe tbody tr th {\n",
       "        vertical-align: top;\n",
       "    }\n",
       "\n",
       "    .dataframe thead th {\n",
       "        text-align: right;\n",
       "    }\n",
       "</style>\n",
       "<table border=\"1\" class=\"dataframe\">\n",
       "  <thead>\n",
       "    <tr style=\"text-align: right;\">\n",
       "      <th></th>\n",
       "      <th>cs-method</th>\n",
       "      <th>c-ip</th>\n",
       "      <th>cs-uri-stem</th>\n",
       "      <th>cs(User-Agent)</th>\n",
       "      <th>sc-status</th>\n",
       "    </tr>\n",
       "  </thead>\n",
       "  <tbody>\n",
       "    <tr>\n",
       "      <th>count</th>\n",
       "      <td>2530620</td>\n",
       "      <td>2530620</td>\n",
       "      <td>2530620</td>\n",
       "      <td>2530620</td>\n",
       "      <td>2530620</td>\n",
       "    </tr>\n",
       "    <tr>\n",
       "      <th>unique</th>\n",
       "      <td>6</td>\n",
       "      <td>69837</td>\n",
       "      <td>3616</td>\n",
       "      <td>4653</td>\n",
       "      <td>12</td>\n",
       "    </tr>\n",
       "    <tr>\n",
       "      <th>top</th>\n",
       "      <td>GET</td>\n",
       "      <td>59.188.33.66</td>\n",
       "      <td>/Tulip/common/common_style.aspx</td>\n",
       "      <td>Mozilla/4.0+(compatible;+MSIE+6.0;+Windows+NT+...</td>\n",
       "      <td>200</td>\n",
       "    </tr>\n",
       "    <tr>\n",
       "      <th>freq</th>\n",
       "      <td>2525568</td>\n",
       "      <td>27935</td>\n",
       "      <td>121304</td>\n",
       "      <td>594218</td>\n",
       "      <td>1821993</td>\n",
       "    </tr>\n",
       "  </tbody>\n",
       "</table>\n",
       "</div>"
      ],
      "text/plain": [
       "       cs-method  ... sc-status\n",
       "count    2530620  ...   2530620\n",
       "unique         6  ...        12\n",
       "top          GET  ...       200\n",
       "freq     2525568  ...   1821993\n",
       "\n",
       "[4 rows x 5 columns]"
      ]
     },
     "execution_count": 12,
     "metadata": {
      "tags": []
     },
     "output_type": "execute_result"
    }
   ],
   "source": [
    "#Data Description of ml_df\n",
    "ml_df.describe()"
   ]
  },
  {
   "cell_type": "markdown",
   "metadata": {},
   "source": [
    "The figure above illustrates the count, unique, top and frequency of five attributes including cs-method, c-ip, cs-uri-stem, cs(User-Agent) and sc-status."
   ]
  },
  {
   "cell_type": "markdown",
   "metadata": {
    "id": "1j3dndKNMgDO"
   },
   "source": [
    "## 2.Unsupervised Learning\n",
    " using **sklearn**.\n",
    "\n",
    "\n",
    "**Code**: \n",
    "    1. Perform unsupervised learning on ml_df with K Means, with a varying K from 2 to 10;\n",
    "    2. Plot in the elbow plot. \n",
    "\n",
    "**Report**:\n",
    "    1. Figure 'KMeans' in the elbow plot, with a varying K from 2 to 10.\n",
    "\n"
   ]
  },
  {
   "cell_type": "code",
   "execution_count": null,
   "metadata": {
    "colab": {
     "base_uri": "https://localhost:8080/",
     "height": 295
    },
    "id": "o0m6R9R5N6Kq",
    "outputId": "495e5e8b-1669-42da-cdc6-dd5c49f1677b"
   },
   "outputs": [
    {
     "data": {
      "image/png": "[encoded data removed]",
      "text/plain": [
       "<Figure size 432x288 with 1 Axes>"
      ]
     },
     "metadata": {
      "needs_background": "light",
      "tags": []
     },
     "output_type": "display_data"
    }
   ],
   "source": [
    "from sklearn import preprocessing\n",
    "from sklearn.cluster import KMeans \n",
    "\n",
    "le_df = ml_df.apply(preprocessing.LabelEncoder().fit_transform)\n",
    "\n",
    "data_no_labels = le_df.drop('sc-status', axis = 1) #set the X data set\n",
    "\n",
    "#Your code for Kmeans\n",
    "wcss = []\n",
    "for i in range(2,10):\n",
    "    kmeans = KMeans(n_clusters = i)\n",
    "    kmeans.fit(data_no_labels)\n",
    "    wcss.append(kmeans.inertia_)\n",
    "#Your code for visualizing K means result as elbow plot.\n",
    "plt.plot(range(2,10), wcss)\n",
    "plt.title('The Elbow Method Graph')\n",
    "plt.xlabel('Numbers of clusters')\n",
    "plt.ylabel('WCSS - Within - Clusters - Sum - of - Squares')\n",
    "plt.show()\n",
    "\n"
   ]
  },
  {
   "cell_type": "markdown",
   "metadata": {},
   "source": [
    "##### The figure above shows that the best k is 4 which also means the sum of squares within clusters is minimum (0.5)."
   ]
  },
  {
   "cell_type": "markdown",
   "metadata": {
    "id": "dU6zSmu0OEHC"
   },
   "source": [
    "## 3.Supervised Learning\n",
    "using **PySpark**.\n"
   ]
  },
  {
   "cell_type": "code",
   "execution_count": null,
   "metadata": {
    "colab": {
     "base_uri": "https://localhost:8080/"
    },
    "id": "fh8-pmiTQuza",
    "outputId": "a730b7fb-5713-41ab-82f6-f87bee7733f8"
   },
   "outputs": [
    {
     "name": "stdout",
     "output_type": "stream",
     "text": [
      "Get:1 https://cloud.r-project.org/bin/linux/ubuntu bionic-cran40/ InRelease [3,626 B]\n",
      "Ign:2 https://developer.download.nvidia.com/compute/cuda/repos/ubuntu1804/x86_64  InRelease\n",
      "Get:3 http://security.ubuntu.com/ubuntu bionic-security InRelease [88.7 kB]\n",
      "Get:4 http://ppa.launchpad.net/c2d4u.team/c2d4u4.0+/ubuntu bionic InRelease [15.9 kB]\n",
      "Ign:5 https://developer.download.nvidia.com/compute/machine-learning/repos/ubuntu1804/x86_64  InRelease\n",
      "Get:6 https://developer.download.nvidia.com/compute/cuda/repos/ubuntu1804/x86_64  Release [697 B]\n",
      "Hit:7 https://developer.download.nvidia.com/compute/machine-learning/repos/ubuntu1804/x86_64  Release\n",
      "Get:8 https://developer.download.nvidia.com/compute/cuda/repos/ubuntu1804/x86_64  Release.gpg [836 B]\n",
      "Get:9 https://cloud.r-project.org/bin/linux/ubuntu bionic-cran40/ Packages [60.9 kB]\n",
      "Hit:10 http://archive.ubuntu.com/ubuntu bionic InRelease\n",
      "Get:11 http://archive.ubuntu.com/ubuntu bionic-updates InRelease [88.7 kB]\n",
      "Hit:13 http://ppa.launchpad.net/cran/libgit2/ubuntu bionic InRelease\n",
      "Ign:14 https://developer.download.nvidia.com/compute/cuda/repos/ubuntu1804/x86_64  Packages\n",
      "Hit:15 http://ppa.launchpad.net/deadsnakes/ppa/ubuntu bionic InRelease\n",
      "Get:14 https://developer.download.nvidia.com/compute/cuda/repos/ubuntu1804/x86_64  Packages [796 kB]\n",
      "Get:16 http://archive.ubuntu.com/ubuntu bionic-backports InRelease [74.6 kB]\n",
      "Get:17 http://ppa.launchpad.net/graphics-drivers/ppa/ubuntu bionic InRelease [21.3 kB]\n",
      "Get:18 http://ppa.launchpad.net/c2d4u.team/c2d4u4.0+/ubuntu bionic/main Sources [1,768 kB]\n",
      "Get:19 http://security.ubuntu.com/ubuntu bionic-security/restricted amd64 Packages [423 kB]\n",
      "Get:20 http://security.ubuntu.com/ubuntu bionic-security/universe amd64 Packages [1,412 kB]\n",
      "Get:21 http://security.ubuntu.com/ubuntu bionic-security/main amd64 Packages [2,152 kB]\n",
      "Get:22 http://archive.ubuntu.com/ubuntu bionic-updates/universe amd64 Packages [2,183 kB]\n",
      "Get:23 http://ppa.launchpad.net/c2d4u.team/c2d4u4.0+/ubuntu bionic/main amd64 Packages [904 kB]\n",
      "Get:24 http://archive.ubuntu.com/ubuntu bionic-updates/restricted amd64 Packages [452 kB]\n",
      "Get:25 http://archive.ubuntu.com/ubuntu bionic-updates/main amd64 Packages [2,583 kB]\n",
      "Get:26 http://ppa.launchpad.net/graphics-drivers/ppa/ubuntu bionic/main amd64 Packages [41.5 kB]\n",
      "Fetched 13.1 MB in 8s (1,685 kB/s)\n",
      "Reading package lists... Done\n"
     ]
    }
   ],
   "source": [
    "!apt-get update\n",
    "# install Java8\n",
    "!apt-get install openjdk-8-jdk-headless -qq > /dev/null\n",
    "# download spark 3.1.1\n",
    "!wget -q http://apache.osuosl.org/spark/spark-3.1.1/spark-3.1.1-bin-hadoop3.2.tgz\n",
    "# unzip it\n",
    "!tar xf spark-3.1.1-bin-hadoop3.2.tgz\n",
    "# install findspark \n",
    "!pip install -q findspark\n",
    "\n",
    "import os\n",
    "os.environ[\"JAVA_HOME\"] = \"/usr/lib/jvm/java-8-openjdk-amd64\"\n",
    "os.environ[\"SPARK_HOME\"] = \"/content/spark-3.1.1-bin-hadoop3.2\"\n",
    "\n",
    "import findspark \n",
    "findspark.init() "
   ]
  },
  {
   "cell_type": "code",
   "execution_count": null,
   "metadata": {
    "id": "HRzcbPF4Pskq"
   },
   "outputs": [],
   "source": [
    "from pyspark.sql import SparkSession \n",
    "from pyspark.sql.types import *\n",
    "\n",
    "spark = SparkSession.builder.appName('HotelTulip_Weblog').getOrCreate()"
   ]
  },
  {
   "cell_type": "markdown",
   "metadata": {
    "id": "RncKyIESOMnJ"
   },
   "source": [
    "### 3.1 Data Preparation \n",
    "\n",
    "In order to reduce the processing time, I will select 10% of le_df."
   ]
  },
  {
   "cell_type": "code",
   "execution_count": null,
   "metadata": {
    "id": "DE23Ll_fOS5J"
   },
   "outputs": [],
   "source": [
    "schema = StructType([StructField(\"sc_status\", IntegerType(), True),\n",
    "                     StructField(\"cs_method\", IntegerType(), True),\n",
    "                     StructField(\"c_ip\", IntegerType(), True),\n",
    "                     StructField(\"cs_uri_stem\", IntegerType(), True),\n",
    "                     StructField(\"cs(User_Agent)\", IntegerType(), True)])\n",
    "\n",
    "sl_df = spark.createDataFrame(le_df, schema=schema)"
   ]
  },
  {
   "cell_type": "code",
   "execution_count": null,
   "metadata": {
    "id": "dJdQe_8tPvlF"
   },
   "outputs": [],
   "source": [
    "#Only 10% of the data is used in this part.\n",
    "sl_df = sl_df.sample(fraction=0.1, seed=1)"
   ]
  },
  {
   "cell_type": "code",
   "execution_count": null,
   "metadata": {
    "colab": {
     "base_uri": "https://localhost:8080/"
    },
    "id": "Ut3zjBOyU2FU",
    "outputId": "32be6d89-9dbd-4330-820c-8a73142fd847"
   },
   "outputs": [
    {
     "name": "stdout",
     "output_type": "stream",
     "text": [
      "+---------+---------+----+-----------+--------------+--------------------+\n",
      "|sc_status|cs_method|c_ip|cs_uri_stem|cs(User_Agent)|            features|\n",
      "+---------+---------+----+-----------+--------------+--------------------+\n",
      "|        0|    18825|2741|       1385|             0|[18825.0,2741.0,1...|\n",
      "|        0|    68103|2425|       1459|             0|[68103.0,2425.0,1...|\n",
      "|        0|    41459|2087|       4238|             0|[41459.0,2087.0,4...|\n",
      "+---------+---------+----+-----------+--------------+--------------------+\n",
      "only showing top 3 rows\n",
      "\n"
     ]
    }
   ],
   "source": [
    "from pyspark.ml.linalg import Vectors\n",
    "from pyspark.ml.feature import VectorAssembler\n",
    "# transformer\n",
    "vector_assembler = VectorAssembler(inputCols=['cs_method', 'c_ip', 'cs_uri_stem', 'cs(User_Agent)'],outputCol=\"features\")\n",
    "df_temp = vector_assembler.transform(sl_df)\n",
    "df_temp.show(3)"
   ]
  },
  {
   "cell_type": "code",
   "execution_count": null,
   "metadata": {
    "colab": {
     "base_uri": "https://localhost:8080/"
    },
    "id": "JBoKE5tYVdXj",
    "outputId": "53acd131-ba5b-45b0-d4e2-563b2e8a8caf"
   },
   "outputs": [
    {
     "name": "stdout",
     "output_type": "stream",
     "text": [
      "+---------+--------------------+\n",
      "|sc_status|            features|\n",
      "+---------+--------------------+\n",
      "|        0|[18825.0,2741.0,1...|\n",
      "|        0|[68103.0,2425.0,1...|\n",
      "|        0|[41459.0,2087.0,4...|\n",
      "+---------+--------------------+\n",
      "only showing top 3 rows\n",
      "\n"
     ]
    }
   ],
   "source": [
    "df_sl = df_temp.drop('cs_method', 'c_ip', 'cs_uri_stem', 'cs(User_Agent)')\n",
    "df_sl.show(3)"
   ]
  },
  {
   "cell_type": "code",
   "execution_count": null,
   "metadata": {
    "colab": {
     "base_uri": "https://localhost:8080/"
    },
    "id": "0Bg9-Q9U5Tji",
    "outputId": "f6aec455-c67d-445f-dcae-7351d0ac8e04"
   },
   "outputs": [
    {
     "name": "stdout",
     "output_type": "stream",
     "text": [
      "+-------+--------------------+\n",
      "|summary|           sc_status|\n",
      "+-------+--------------------+\n",
      "|  count|              253029|\n",
      "|   mean|0.004402657402906386|\n",
      "| stddev| 0.10740879784990687|\n",
      "|    min|                   0|\n",
      "|    max|                   5|\n",
      "+-------+--------------------+\n",
      "\n"
     ]
    }
   ],
   "source": [
    "df_sl.describe().show()"
   ]
  },
  {
   "cell_type": "markdown",
   "metadata": {
    "id": "12YtMZE0OTOR"
   },
   "source": [
    "###  3.2 Decision Tree or Logistic Regression\n",
    "\n",
    " <div class=\"alert alert-block alert-info\">\n",
    "\n",
    "**Code**: <br>\n",
    "    1. Perform supervised learning on ml\\_df with Decision Tree or Logistic Regression,  <br>\n",
    "    2. Evaluate the classification result using [confusion matrix ](https://en.wikipedia.org/wiki/Confusion_matrix) including TP, TN, FP, FN, <br>\n",
    "    3. Evaluate the classification result using Precision, Recall and F1 score.\n",
    "    <br>\n",
    "\n",
    "**Report**: <br>\n",
    "    1. Display the classification result using [confusion matrix ](https://en.wikipedia.org/wiki/Confusion_matrix) including TP, TN, FP, FN, <br>\n",
    "    2. Display the classification result using Precision, Recall and F1 score.\n",
    "</div>"
   ]
  },
  {
   "cell_type": "code",
   "execution_count": null,
   "metadata": {
    "id": "M_XZqsSAOr4a"
   },
   "outputs": [],
   "source": [
    "#Create the data sets for training and testing\n",
    "(trainingData, testData) = df_sl.randomSplit([0.7, 0.3])"
   ]
  },
  {
   "cell_type": "code",
   "execution_count": null,
   "metadata": {
    "colab": {
     "base_uri": "https://localhost:8080/",
     "height": 204
    },
    "id": "19Ri7rpuOxk6",
    "outputId": "6fe51449-b29e-4d2c-975e-e4e5df1e2002"
   },
   "outputs": [
    {
     "data": {
      "text/html": [
       "<div>\n",
       "<style scoped>\n",
       "    .dataframe tbody tr th:only-of-type {\n",
       "        vertical-align: middle;\n",
       "    }\n",
       "\n",
       "    .dataframe tbody tr th {\n",
       "        vertical-align: top;\n",
       "    }\n",
       "\n",
       "    .dataframe thead th {\n",
       "        text-align: right;\n",
       "    }\n",
       "</style>\n",
       "<table border=\"1\" class=\"dataframe\">\n",
       "  <thead>\n",
       "    <tr style=\"text-align: right;\">\n",
       "      <th></th>\n",
       "      <th>sc_status</th>\n",
       "      <th>features</th>\n",
       "      <th>rawPrediction</th>\n",
       "      <th>prediction</th>\n",
       "      <th>probability</th>\n",
       "    </tr>\n",
       "  </thead>\n",
       "  <tbody>\n",
       "    <tr>\n",
       "      <th>0</th>\n",
       "      <td>0</td>\n",
       "      <td>[0.0, 8.0, 1954.0, 0.0]</td>\n",
       "      <td>[11.406212783218935, 6.700545131009683, -3.767...</td>\n",
       "      <td>0.0</td>\n",
       "      <td>[0.9910132021085412, 0.008962598571128562, 2.5...</td>\n",
       "    </tr>\n",
       "    <tr>\n",
       "      <th>1</th>\n",
       "      <td>0</td>\n",
       "      <td>[4.0, 1866.0, 898.0, 0.0]</td>\n",
       "      <td>[10.943828729105949, 4.397564131772414, -1.045...</td>\n",
       "      <td>0.0</td>\n",
       "      <td>[0.998276478488199, 0.0014329935863631473, 6.2...</td>\n",
       "    </tr>\n",
       "    <tr>\n",
       "      <th>2</th>\n",
       "      <td>0</td>\n",
       "      <td>[4.0, 2119.0, 898.0, 4.0]</td>\n",
       "      <td>[10.130012036075676, 0.9636338619142185, -5.43...</td>\n",
       "      <td>0.0</td>\n",
       "      <td>[0.998573111581486, 0.00010434518361635066, 1....</td>\n",
       "    </tr>\n",
       "    <tr>\n",
       "      <th>3</th>\n",
       "      <td>0</td>\n",
       "      <td>[7.0, 1059.0, 195.0, 0.0]</td>\n",
       "      <td>[8.430441207276694, 1.915166224324627, 2.74655...</td>\n",
       "      <td>0.0</td>\n",
       "      <td>[0.9950323415033304, 0.001473293333289207, 0.0...</td>\n",
       "    </tr>\n",
       "    <tr>\n",
       "      <th>4</th>\n",
       "      <td>0</td>\n",
       "      <td>[10.0, 2124.0, 1385.0, 0.0]</td>\n",
       "      <td>[12.36022653470315, 5.977305964773158, -3.3803...</td>\n",
       "      <td>0.0</td>\n",
       "      <td>[0.9979353528457453, 0.0016866898297253291, 1....</td>\n",
       "    </tr>\n",
       "  </tbody>\n",
       "</table>\n",
       "</div>"
      ],
      "text/plain": [
       "   sc_status  ...                                        probability\n",
       "0          0  ...  [0.9910132021085412, 0.008962598571128562, 2.5...\n",
       "1          0  ...  [0.998276478488199, 0.0014329935863631473, 6.2...\n",
       "2          0  ...  [0.998573111581486, 0.00010434518361635066, 1....\n",
       "3          0  ...  [0.9950323415033304, 0.001473293333289207, 0.0...\n",
       "4          0  ...  [0.9979353528457453, 0.0016866898297253291, 1....\n",
       "\n",
       "[5 rows x 5 columns]"
      ]
     },
     "execution_count": 28,
     "metadata": {
      "tags": []
     },
     "output_type": "execute_result"
    }
   ],
   "source": [
    "from pyspark.ml.classification import LogisticRegression\n",
    "from pyspark.ml.classification import DecisionTreeClassifier\n",
    "from pyspark.ml.evaluation import MulticlassClassificationEvaluator\n",
    "# trainning from train data and predicting based on the test data\n",
    "\n",
    "lr = LogisticRegression(maxIter=100, regParam=0.0, elasticNetParam=0.0, tol=1e-06, labelCol ='sc_status', featuresCol='features')\n",
    "lrModeltraining = lr.fit(trainingData)\n",
    "\n",
    "predictions = lrModeltraining.transform(testData)\n",
    "\n",
    "predictions.select('sc_status', 'features', 'rawPrediction', 'prediction', 'probability').toPandas().head(5)\n"
   ]
  },
  {
   "cell_type": "code",
   "execution_count": null,
   "metadata": {
    "colab": {
     "base_uri": "https://localhost:8080/"
    },
    "id": "66ESM5L3O1cp",
    "outputId": "cda57178-5e75-423f-8063-51d76187915d"
   },
   "outputs": [
    {
     "name": "stdout",
     "output_type": "stream",
     "text": [
      "Confusion matrix of LogisticRegression model:\n",
      "  [[75814     0     0     0     0     0]\n",
      " [   62     0     0     0     0     0]\n",
      " [    4     0     0     0     0     0]\n",
      " [   97     0     0     0     0     0]\n",
      " [    0     0     0     0     1     0]\n",
      " [    1     0     0     0     0     0]]\n",
      "Acccuracy of each class:  [0.99784151 0.99918399 0.99994735 0.99872333 1.         0.99998684]\n",
      "Presicion of each class:  [0.99784148        nan        nan        nan 1.                nan]\n",
      "Recall of each class:  [1. 0. 0. 0. 1. 0.]\n",
      "F-score of each class:  [0.99891957 0.         0.         0.         1.         0.        ]\n",
      "False alarm rate of each class:  [0.99393939 0.         0.         0.         0.         0.        ]\n",
      "Accuracy of LogisticRegression model:  0.9978415088379684\n",
      "Precsion of LogisticRegression model:  nan\n",
      "Recall of LogisticRegression model:  0.3333333333333333\n",
      "F1 of LogisticRegression model:  0.3331532623590176\n",
      "Miss rate of LogisticRegression model:  0.002158491162031595\n"
     ]
    }
   ],
   "source": [
    "from sklearn.metrics import confusion_matrix\n",
    "from sklearn.metrics import accuracy_score\n",
    "from sklearn.metrics import zero_one_loss\n",
    "\n",
    "np.seterr(divide='ignore', invalid='ignore')\n",
    "\n",
    "# display TP, TN, FP, FN\n",
    "y_true = predictions.select('sc_status').collect()\n",
    "y_pred = predictions.select('prediction').collect()\n",
    "\n",
    "print(\"Confusion matrix of LogisticRegression model:\\n \", confusion_matrix(y_true, y_pred))\n",
    "\n",
    "confusion_matrixLR = confusion_matrix(y_true, y_pred)\n",
    "FP = confusion_matrixLR.sum(axis=0) - np.diag(confusion_matrixLR)  \n",
    "FN = confusion_matrixLR.sum(axis=1) - np.diag(confusion_matrixLR)\n",
    "TP = np.diag(confusion_matrixLR)\n",
    "TN = confusion_matrixLR.sum() - (FP + FN + TP)\n",
    "\n",
    "\n",
    "# Sensitivity, hit rate, recall, or true positive rate\n",
    "TPR = TP/(TP+FN)\n",
    "# Specificity or true negative rate\n",
    "TNR = TN/(TN+FP) \n",
    "# Precision or positive predictive value\n",
    "PPV = TP/(TP+FP)\n",
    "# Negative predictive value\n",
    "NPV = TN/(TN+FN)\n",
    "# Fall out or false positive rate\n",
    "FPR = FP/(FP+TN)\n",
    "# False negative rate\n",
    "FNR = FN/(TP+FN)\n",
    "# False discovery rate\n",
    "FDR = FP/(TP+FP)\n",
    "\n",
    "#accuracy of each class\n",
    "ACC = (TP+TN)/(TP+FP+FN+TN)\n",
    "print(\"Acccuracy of each class: \", ACC)\n",
    "\n",
    "#Precision of each class\n",
    "print(\"Presicion of each class: \", PPV)\n",
    "\n",
    "#Recall of each class\n",
    "print(\"Recall of each class: \", TPR)\n",
    "\n",
    "#F-score\n",
    "F1 = (2*TP)/((2*TP)+FP+FN)\n",
    "print(\"F-score of each class: \", F1)\n",
    "\n",
    "#False alarm rate\n",
    "print(\"False alarm rate of each class: \", FPR)\n",
    "\n",
    "#accuracy score\n",
    "print(\"Accuracy of LogisticRegression model: \", accuracy_score(y_pred,y_true))\n",
    "\n",
    "#precision score\n",
    "print(\"Precsion of LogisticRegression model: \", np.mean(PPV))\n",
    "\n",
    "#recall score\n",
    "print(\"Recall of LogisticRegression model: \", np.mean(TPR))\n",
    "\n",
    "#F-1 score\n",
    "print(\"F1 of LogisticRegression model: \", np.mean(F1))\n",
    "\n",
    "#error\n",
    "print(\"Miss rate of LogisticRegression model: \", zero_one_loss(y_true, y_pred))"
   ]
  },
  {
   "cell_type": "markdown",
   "metadata": {},
   "source": [
    "##### Based on the figure above, the model reaches 99.78% of accuracy and 0.22% of miss classification in which 0 of precision and 33.33% of recall. In addition, F1-score of the model is 33.32%. Besides, the accuracy of 4 class is highest (1). The percentage of negative cases incorrectly identified as true 0 in the data is 99.4% which also means very high proportion in this algorithm"
   ]
  },
  {
   "cell_type": "code",
   "execution_count": null,
   "metadata": {
    "colab": {
     "base_uri": "https://localhost:8080/"
    },
    "id": "9BZB16gVO2pq",
    "outputId": "a8af90b5-d226-49fa-b74d-f080c4b5cb7a"
   },
   "outputs": [
    {
     "name": "stdout",
     "output_type": "stream",
     "text": [
      "              precision    recall  f1-score   support\n",
      "\n",
      "           0       1.00      1.00      1.00     75814\n",
      "           1       0.00      0.00      0.00        62\n",
      "           2       0.00      0.00      0.00         4\n",
      "           3       0.00      0.00      0.00        97\n",
      "           4       1.00      1.00      1.00         1\n",
      "           5       0.00      0.00      0.00         1\n",
      "\n",
      "    accuracy                           1.00     75979\n",
      "   macro avg       0.33      0.33      0.33     75979\n",
      "weighted avg       1.00      1.00      1.00     75979\n",
      "\n"
     ]
    },
    {
     "name": "stderr",
     "output_type": "stream",
     "text": [
      "/usr/local/lib/python3.7/dist-packages/sklearn/metrics/_classification.py:1272: UndefinedMetricWarning: Precision and F-score are ill-defined and being set to 0.0 in labels with no predicted samples. Use `zero_division` parameter to control this behavior.\n",
      "  _warn_prf(average, modifier, msg_start, len(result))\n"
     ]
    }
   ],
   "source": [
    "from sklearn.metrics import classification_report\n",
    "from sklearn.metrics import accuracy_score\n",
    "\n",
    "# display the classification results as required.\n",
    "print(classification_report(y_true, y_pred))\n",
    "\n"
   ]
  },
  {
   "cell_type": "markdown",
   "metadata": {},
   "source": [
    "##### The ability to predict actually 0 and 4 is 100% while 1, 2, 3 and 5 class is 0%. Meanwhile, the model has the ability to recall precisely the true 1, 2, 3 and 5 is lowest (0%)."
   ]
  },
  {
   "cell_type": "markdown",
   "metadata": {
    "id": "vt5iA23HO5uC"
   },
   "source": [
    "### 3.3 K-fold Cross-Validation\n",
    " Use K-fold cross validation to find out the best hyper-parameter set, where K = 2.\n",
    "<div class=\"alert alert-block alert-info\">\n",
    "\n",
    "**Code**: \n",
    "Implement 2-fold cross validation for three (any three) classification models, where K = 2.\n",
    "    <br>\n",
    "\n",
    "**Report**: <br>\n",
    "    1.  design and running results, <br>\n",
    "\t\t2.  my findings on hyper-parameters based on this cross-validation  results (Best results).\n",
    "</div>"
   ]
  },
  {
   "cell_type": "code",
   "execution_count": null,
   "metadata": {
    "id": "jgJtFjqKPEFD"
   },
   "outputs": [],
   "source": [
    "from pyspark.ml import Pipeline\n",
    "from pyspark.ml.evaluation import MulticlassClassificationEvaluator\n",
    "from pyspark.ml.tuning import ParamGridBuilder, CrossValidator\n",
    "from pyspark.ml.feature import RFormula\n",
    "#from pyspark.ml.evaluation import RegressionEvaluator\n",
    "from pyspark.ml.regression import LinearRegression, RandomForestRegressor\n",
    "# K = 2\n",
    "# Your code for 2-fold cross validation\n",
    "\n",
    "# Create ParamGrid for Cross Validation\n",
    "evaluator = MulticlassClassificationEvaluator(predictionCol = \"prediction\", labelCol = \"sc_status\", metricName = \"f1\")\n",
    "\n",
    "lor = LogisticRegression(maxIter=10, featuresCol=\"features\", labelCol=\"sc_status\")\n",
    "dt = DecisionTreeClassifier(maxDepth = 5, featuresCol='features', labelCol='sc_status')\n",
    "rf = RandomForestRegressor(subsamplingRate=0.15, featuresCol='features', labelCol='sc_status')\n",
    "\n",
    "#formula = RFormula(formula = \"sc_status ~ .\")\n",
    "\n",
    "pipeline = Pipeline(stages= [])\n",
    "\n",
    "                    \n",
    "paramGrid_lor = (ParamGridBuilder() \n",
    "    .baseOn({pipeline.stages: [lor]}) \n",
    "    .addGrid(lor.regParam, [0.1, 0.5, 2.0]) \n",
    "    .addGrid(lor.elasticNetParam, [0.1, 0.5, 1.0]) \n",
    "    .addGrid(lor.maxIter, [2, 5, 10]) \n",
    "    .build())\n",
    "\n",
    "paramGrid_dt = (ParamGridBuilder() \n",
    "    .baseOn({pipeline.stages: [dt]}) \n",
    "    .addGrid(dt.maxDepth, [2, 10, 20]) \n",
    "    .addGrid(dt.maxBins, [2, 10, 20])\n",
    "    .build())\n",
    "    \n",
    "paramGrid_rf = (ParamGridBuilder() \n",
    "    .baseOn({pipeline.stages: [rf]}) \n",
    "    .addGrid(rf.numTrees, [10, 20, 30]) \n",
    "    .addGrid(rf.featureSubsetStrategy, ['onethird', '0.5', 'sqrt'])\n",
    "    .build())\n",
    "\n",
    "grids = paramGrid_lor + paramGrid_dt + paramGrid_rf\n",
    "cv = CrossValidator(estimator= pipeline, estimatorParamMaps=grids, \n",
    "                    evaluator= evaluator, numFolds=2)\n",
    "\n",
    "cvModel = cv.fit(trainingData)\n"
   ]
  },
  {
   "cell_type": "code",
   "execution_count": null,
   "metadata": {
    "colab": {
     "base_uri": "https://localhost:8080/"
    },
    "id": "-vG5_7QI0blJ",
    "outputId": "7a2e9a49-f9db-4089-8f00-7e9b6e47461f"
   },
   "outputs": [
    {
     "data": {
      "text/plain": [
       "PipelineModel_e04ce7719a55"
      ]
     },
     "execution_count": 32,
     "metadata": {
      "tags": []
     },
     "output_type": "execute_result"
    }
   ],
   "source": [
    "cvModel.bestModel"
   ]
  },
  {
   "cell_type": "code",
   "execution_count": null,
   "metadata": {
    "id": "0I1Ea_Qm0eSw"
   },
   "outputs": [],
   "source": [
    "predictionCV = cvModel.transform(testData)"
   ]
  },
  {
   "cell_type": "code",
   "execution_count": null,
   "metadata": {
    "colab": {
     "base_uri": "https://localhost:8080/"
    },
    "id": "YcHuBjiQ0hWf",
    "outputId": "96a535fc-5d7b-4912-a922-6bea14627531"
   },
   "outputs": [
    {
     "data": {
      "text/plain": [
       "{Param(parent='Pipeline_d3367cfe1e2f', name='stages', doc='a list of pipeline stages'): [RandomForestRegressor_ca17083b9ade],\n",
       " Param(parent='RandomForestRegressor_ca17083b9ade', name='featureSubsetStrategy', doc=\"The number of features to consider for splits at each tree node. Supported options: 'auto' (choose automatically for task: If numTrees == 1, set to 'all'. If numTrees > 1 (forest), set to 'sqrt' for classification and to 'onethird' for regression), 'all' (use all features), 'onethird' (use 1/3 of the features), 'sqrt' (use sqrt(number of features)), 'log2' (use log2(number of features)), 'n' (when n is in the range (0, 1.0], use n * number of features. When n is in the range (1, number of features), use n features). default = 'auto'\"): 'onethird',\n",
       " Param(parent='RandomForestRegressor_ca17083b9ade', name='numTrees', doc='Number of trees to train (>= 1).'): 30}"
      ]
     },
     "execution_count": 34,
     "metadata": {
      "tags": []
     },
     "output_type": "execute_result"
    }
   ],
   "source": [
    "#Best model\n",
    "cvModel.getEstimatorParamMaps()[ np.argmin(cvModel.avgMetrics) ]"
   ]
  },
  {
   "cell_type": "code",
   "execution_count": null,
   "metadata": {
    "colab": {
     "base_uri": "https://localhost:8080/"
    },
    "id": "isL6OsSC0kPE",
    "outputId": "c0666d30-c1d0-4973-d83b-8aeba3b2b906"
   },
   "outputs": [
    {
     "data": {
      "text/plain": [
       "{Param(parent='DecisionTreeClassifier_3f6e82ccd641', name='maxBins', doc='Max number of bins for discretizing continuous features.  Must be >=2 and >= number of categories for any categorical feature.'): 20,\n",
       " Param(parent='DecisionTreeClassifier_3f6e82ccd641', name='maxDepth', doc='Maximum depth of the tree. (>= 0) E.g., depth 0 means 1 leaf node; depth 1 means 1 internal node + 2 leaf nodes.'): 10,\n",
       " Param(parent='Pipeline_d3367cfe1e2f', name='stages', doc='a list of pipeline stages'): [DecisionTreeClassifier_3f6e82ccd641]}"
      ]
     },
     "execution_count": 35,
     "metadata": {
      "tags": []
     },
     "output_type": "execute_result"
    }
   ],
   "source": [
    "#Worst performer\n",
    "cvModel.getEstimatorParamMaps()[ np.argmax(cvModel.avgMetrics) ]"
   ]
  },
  {
   "cell_type": "markdown",
   "metadata": {},
   "source": [
    "##### The best model is random forest regressor which best parameters are numTrees = 30 and featureSubsetStrategy = onethird. Meanwhile the worst performance is decision tree classifier which parameters are maxBins = 20 and max Depth = 10. The performance after applying the best model for test data.\n"
   ]
  },
  {
   "cell_type": "code",
   "execution_count": null,
   "metadata": {
    "colab": {
     "base_uri": "https://localhost:8080/",
     "height": 204
    },
    "id": "MgBIZeuOJ5Dn",
    "outputId": "a948d6ba-f38f-463a-c8ad-9e5caffd94d6"
   },
   "outputs": [
    {
     "data": {
      "text/html": [
       "<div>\n",
       "<style scoped>\n",
       "    .dataframe tbody tr th:only-of-type {\n",
       "        vertical-align: middle;\n",
       "    }\n",
       "\n",
       "    .dataframe tbody tr th {\n",
       "        vertical-align: top;\n",
       "    }\n",
       "\n",
       "    .dataframe thead th {\n",
       "        text-align: right;\n",
       "    }\n",
       "</style>\n",
       "<table border=\"1\" class=\"dataframe\">\n",
       "  <thead>\n",
       "    <tr style=\"text-align: right;\">\n",
       "      <th></th>\n",
       "      <th>sc_status</th>\n",
       "      <th>features</th>\n",
       "      <th>rawPrediction</th>\n",
       "      <th>prediction</th>\n",
       "      <th>probability</th>\n",
       "    </tr>\n",
       "  </thead>\n",
       "  <tbody>\n",
       "    <tr>\n",
       "      <th>0</th>\n",
       "      <td>0</td>\n",
       "      <td>[0.0, 8.0, 1954.0, 0.0]</td>\n",
       "      <td>[100444.0, 6.0, 0.0, 9.0, 0.0, 0.0]</td>\n",
       "      <td>0.0</td>\n",
       "      <td>[0.9998506853542242, 5.972585831035547e-05, 0....</td>\n",
       "    </tr>\n",
       "    <tr>\n",
       "      <th>1</th>\n",
       "      <td>0</td>\n",
       "      <td>[4.0, 1866.0, 898.0, 0.0]</td>\n",
       "      <td>[100444.0, 6.0, 0.0, 9.0, 0.0, 0.0]</td>\n",
       "      <td>0.0</td>\n",
       "      <td>[0.9998506853542242, 5.972585831035547e-05, 0....</td>\n",
       "    </tr>\n",
       "    <tr>\n",
       "      <th>2</th>\n",
       "      <td>0</td>\n",
       "      <td>[4.0, 2119.0, 898.0, 4.0]</td>\n",
       "      <td>[37108.0, 0.0, 0.0, 0.0, 0.0, 0.0]</td>\n",
       "      <td>0.0</td>\n",
       "      <td>[1.0, 0.0, 0.0, 0.0, 0.0, 0.0]</td>\n",
       "    </tr>\n",
       "    <tr>\n",
       "      <th>3</th>\n",
       "      <td>0</td>\n",
       "      <td>[7.0, 1059.0, 195.0, 0.0]</td>\n",
       "      <td>[1026.0, 45.0, 2.0, 0.0, 0.0, 0.0]</td>\n",
       "      <td>0.0</td>\n",
       "      <td>[0.9561975768872321, 0.04193849021435228, 0.00...</td>\n",
       "    </tr>\n",
       "    <tr>\n",
       "      <th>4</th>\n",
       "      <td>0</td>\n",
       "      <td>[10.0, 2124.0, 1385.0, 0.0]</td>\n",
       "      <td>[100444.0, 6.0, 0.0, 9.0, 0.0, 0.0]</td>\n",
       "      <td>0.0</td>\n",
       "      <td>[0.9998506853542242, 5.972585831035547e-05, 0....</td>\n",
       "    </tr>\n",
       "  </tbody>\n",
       "</table>\n",
       "</div>"
      ],
      "text/plain": [
       "   sc_status  ...                                        probability\n",
       "0          0  ...  [0.9998506853542242, 5.972585831035547e-05, 0....\n",
       "1          0  ...  [0.9998506853542242, 5.972585831035547e-05, 0....\n",
       "2          0  ...                     [1.0, 0.0, 0.0, 0.0, 0.0, 0.0]\n",
       "3          0  ...  [0.9561975768872321, 0.04193849021435228, 0.00...\n",
       "4          0  ...  [0.9998506853542242, 5.972585831035547e-05, 0....\n",
       "\n",
       "[5 rows x 5 columns]"
      ]
     },
     "execution_count": 37,
     "metadata": {
      "tags": []
     },
     "output_type": "execute_result"
    }
   ],
   "source": [
    "predictionCV.select('sc_status', 'features', 'rawPrediction', 'prediction', 'probability').toPandas().head(5)"
   ]
  },
  {
   "cell_type": "code",
   "execution_count": null,
   "metadata": {
    "colab": {
     "base_uri": "https://localhost:8080/"
    },
    "id": "h1DGWX9SMLxp",
    "outputId": "44aed753-ca2e-4e18-9f83-e1a70e66a155"
   },
   "outputs": [
    {
     "name": "stdout",
     "output_type": "stream",
     "text": [
      "Confusion matrix of best model:\n",
      "  [[75801    13     0     0     0     0]\n",
      " [   46    16     0     0     0     0]\n",
      " [    4     0     0     0     0     0]\n",
      " [   22     0     0    75     0     0]\n",
      " [    1     0     0     0     0     0]\n",
      " [    0     0     0     1     0     0]]\n",
      "Acccuracy of each class:  [0.99886811 0.99922347 0.99994735 0.99969728 0.99998684 0.99998684]\n",
      "Presicion of each class:  [0.99903788 0.55172414        nan 0.98684211        nan        nan]\n",
      "Recall of each class:  [0.99982853 0.25806452 0.         0.77319588 0.         0.        ]\n",
      "F-score of each class:  [0.99943305 0.35164835 0.         0.86705202 0.         0.        ]\n",
      "False alarm rate of each class:  [4.42424242e-01 1.71239643e-04 0.00000000e+00 1.31783559e-05\n",
      " 0.00000000e+00 0.00000000e+00]\n",
      "Accuracy of best model:  0.9988549467616051\n",
      "Precsion of best model:  nan\n",
      "Recall of best model:  0.3385148200217086\n",
      "F1 of best model:  0.369688903591662\n",
      "Miss rate of best model:  0.0011450532383948664\n"
     ]
    }
   ],
   "source": [
    "np.seterr(divide='ignore', invalid='ignore')\n",
    "\n",
    "# display TP, TN, FP, FN\n",
    "y_trueCV = predictionCV.select('sc_status').collect()\n",
    "y_predCV = predictionCV.select('prediction').collect()\n",
    "\n",
    "print(\"Confusion matrix of best model:\\n \", confusion_matrix(y_trueCV, y_predCV))\n",
    "\n",
    "confusion_matrixLR = confusion_matrix(y_trueCV, y_predCV)\n",
    "FP = confusion_matrixLR.sum(axis=0) - np.diag(confusion_matrixLR)  \n",
    "FN = confusion_matrixLR.sum(axis=1) - np.diag(confusion_matrixLR)\n",
    "TP = np.diag(confusion_matrixLR)\n",
    "TN = confusion_matrixLR.sum() - (FP + FN + TP)\n",
    "\n",
    "\n",
    "# Sensitivity, hit rate, recall, or true positive rate\n",
    "TPR = TP/(TP+FN)\n",
    "# Specificity or true negative rate\n",
    "TNR = TN/(TN+FP) \n",
    "# Precision or positive predictive value\n",
    "PPV = TP/(TP+FP)\n",
    "# Negative predictive value\n",
    "NPV = TN/(TN+FN)\n",
    "# Fall out or false positive rate\n",
    "FPR = FP/(FP+TN)\n",
    "# False negative rate\n",
    "FNR = FN/(TP+FN)\n",
    "# False discovery rate\n",
    "FDR = FP/(TP+FP)\n",
    "\n",
    "#accuracy of each class\n",
    "ACC = (TP+TN)/(TP+FP+FN+TN)\n",
    "print(\"Acccuracy of each class: \", ACC)\n",
    "\n",
    "#Precision of each class\n",
    "print(\"Presicion of each class: \", PPV)\n",
    "\n",
    "#Recall of each class\n",
    "print(\"Recall of each class: \", TPR)\n",
    "\n",
    "#F-score\n",
    "F1 = (2*TP)/((2*TP)+FP+FN)\n",
    "print(\"F-score of each class: \", F1)\n",
    "\n",
    "#False alarm rate\n",
    "print(\"False alarm rate of each class: \", FPR)\n",
    "\n",
    "#accuracy score\n",
    "print(\"Accuracy of best model: \", accuracy_score(y_predCV,y_trueCV))\n",
    "\n",
    "#precision score\n",
    "print(\"Precsion of best model: \", np.mean(PPV))\n",
    "\n",
    "#recall score\n",
    "print(\"Recall of best model: \", np.mean(TPR))\n",
    "\n",
    "#F-1 score\n",
    "print(\"F1 of best model: \", np.mean(F1))\n",
    "\n",
    "#error\n",
    "print(\"Miss rate of best model: \", zero_one_loss(y_trueCV, y_predCV))"
   ]
  },
  {
   "cell_type": "code",
   "execution_count": null,
   "metadata": {
    "colab": {
     "base_uri": "https://localhost:8080/"
    },
    "id": "IKen_pLDMu7D",
    "outputId": "04930dbe-1155-46cc-d3d5-250283f1b4aa"
   },
   "outputs": [
    {
     "name": "stdout",
     "output_type": "stream",
     "text": [
      "              precision    recall  f1-score   support\n",
      "\n",
      "           0       1.00      1.00      1.00     75814\n",
      "           1       0.55      0.26      0.35        62\n",
      "           2       0.00      0.00      0.00         4\n",
      "           3       0.99      0.77      0.87        97\n",
      "           4       0.00      0.00      0.00         1\n",
      "           5       0.00      0.00      0.00         1\n",
      "\n",
      "    accuracy                           1.00     75979\n",
      "   macro avg       0.42      0.34      0.37     75979\n",
      "weighted avg       1.00      1.00      1.00     75979\n",
      "\n"
     ]
    },
    {
     "name": "stderr",
     "output_type": "stream",
     "text": [
      "/usr/local/lib/python3.7/dist-packages/sklearn/metrics/_classification.py:1272: UndefinedMetricWarning: Precision and F-score are ill-defined and being set to 0.0 in labels with no predicted samples. Use `zero_division` parameter to control this behavior.\n",
      "  _warn_prf(average, modifier, msg_start, len(result))\n"
     ]
    }
   ],
   "source": [
    "# display the classification results as required.\n",
    "print(classification_report(y_trueCV, y_predCV))"
   ]
  },
  {
   "cell_type": "markdown",
   "metadata": {
    "id": "-ThOmZbnPyMa"
   },
   "source": [
    "## 4.Association Rule Mining\n",
    "<div class=\"alert alert-block alert-info\">\n",
    "\n",
    "**Code**: \n",
    "Implement association rule mining with a suitable threshold for support, and confidence \n",
    "    <br>\n",
    "\n",
    "**Report**: <br>\n",
    "    1.  design and running results, <br>\n",
    "\t\t2.  my findings on on ARMing results.\n",
    "</div>"
   ]
  },
  {
   "cell_type": "code",
   "execution_count": null,
   "metadata": {
    "colab": {
     "base_uri": "https://localhost:8080/"
    },
    "id": "VtZ5-w3tQJDl",
    "outputId": "68f8dee3-b919-4ee5-ca34-5627aaa68a29"
   },
   "outputs": [
    {
     "name": "stdout",
     "output_type": "stream",
     "text": [
      "Requirement already satisfied: apyori in /usr/local/lib/python3.7/dist-packages (1.1.2)\n"
     ]
    }
   ],
   "source": [
    "!pip install apyori"
   ]
  },
  {
   "cell_type": "code",
   "execution_count": null,
   "metadata": {
    "id": "sLR-Vp-cQPki"
   },
   "outputs": [],
   "source": [
    "# use PySpark package, if preferred\n",
    "from apyori import apriori"
   ]
  },
  {
   "cell_type": "code",
   "execution_count": null,
   "metadata": {
    "id": "ld9fNkzJoChg"
   },
   "outputs": [],
   "source": [
    "#create new dataset for association mining rule\n",
    "new_df = df_ht[['s-sitename', 'cs-method', 's-port', 'sc-status', 'sc-substatus', 'sc-win32-status']]"
   ]
  },
  {
   "cell_type": "code",
   "execution_count": null,
   "metadata": {
    "id": "Cs5Sth25hAnj"
   },
   "outputs": [],
   "source": [
    "records = []\n",
    "for i in range(len(new_df)):\n",
    "    records.append([str(new_df.values[i,j]) for j in range(0, 6)])"
   ]
  },
  {
   "cell_type": "code",
   "execution_count": null,
   "metadata": {
    "id": "Gp26P2v0hQ-_"
   },
   "outputs": [],
   "source": [
    "association_rules = apriori(records, min_support=0.0045, min_confidence=0.2, min_lift=3, min_length=4)\n",
    "association_results = list(association_rules)\n"
   ]
  },
  {
   "cell_type": "code",
   "execution_count": null,
   "metadata": {
    "colab": {
     "base_uri": "https://localhost:8080/"
    },
    "id": "2BkWZ9WOVa02",
    "outputId": "0b638f76-3199-4166-a263-caadb3f982a6"
   },
   "outputs": [
    {
     "name": "stdout",
     "output_type": "stream",
     "text": [
      "Rule: 2 -> 404\n",
      "Support: 0.011570285751679144\n",
      "Confidence: 1.0\n",
      "Lift: 59.16133760686758\n",
      "=====================================\n",
      "Rule: 0 -> 2\n",
      "Support: 0.011570048655659642\n",
      "Confidence: 0.9999795081967213\n",
      "Lift: 59.160955130221645\n",
      "=====================================\n",
      "Rule: 2 -> 80\n",
      "Support: 0.011570285751679144\n",
      "Confidence: 1.0\n",
      "Lift: 59.16133760686758\n",
      "=====================================\n",
      "Rule: 2 -> GET\n",
      "Support: 0.011559142238762567\n",
      "Confidence: 0.9990368852459015\n",
      "Lift: 59.19860589536207\n",
      "=====================================\n",
      "Rule: 2 -> W3SVC1\n",
      "Support: 0.011570285751679144\n",
      "Confidence: 1.0\n",
      "Lift: 59.16133760686758\n",
      "=====================================\n",
      "Rule: 0 -> 2\n",
      "Support: 0.011570048655659642\n",
      "Confidence: 0.9999795081967213\n",
      "Lift: 59.160955130221645\n",
      "=====================================\n",
      "Rule: 0 -> 2\n",
      "Support: 0.011558905142743065\n",
      "Confidence: 0.9990163934426228\n",
      "Lift: 59.198223332412816\n",
      "=====================================\n",
      "Rule: 0 -> 2\n",
      "Support: 0.011570048655659642\n",
      "Confidence: 0.9999795081967213\n",
      "Lift: 59.160955130221645\n",
      "=====================================\n",
      "Rule: 2 -> GET\n",
      "Support: 0.011559142238762567\n",
      "Confidence: 0.9990368852459015\n",
      "Lift: 59.19860589536207\n",
      "=====================================\n",
      "Rule: 2 -> 80\n",
      "Support: 0.011570285751679144\n",
      "Confidence: 1.0\n",
      "Lift: 59.16133760686758\n",
      "=====================================\n",
      "Rule: 2 -> GET\n",
      "Support: 0.011559142238762567\n",
      "Confidence: 0.9990368852459015\n",
      "Lift: 59.19860589536207\n",
      "=====================================\n",
      "Rule: 2 -> GET\n",
      "Support: 0.011558905142743065\n",
      "Confidence: 0.9990163934426228\n",
      "Lift: 59.198223332412816\n",
      "=====================================\n",
      "Rule: 2 -> 404\n",
      "Support: 0.011570048655659642\n",
      "Confidence: 0.9999795081967213\n",
      "Lift: 59.160955130221645\n",
      "=====================================\n",
      "Rule: 2 -> GET\n",
      "Support: 0.011558905142743065\n",
      "Confidence: 0.9990163934426228\n",
      "Lift: 59.198223332412816\n",
      "=====================================\n",
      "Rule: 2 -> GET\n",
      "Support: 0.011559142238762567\n",
      "Confidence: 0.9990368852459015\n",
      "Lift: 59.19860589536207\n",
      "=====================================\n",
      "Rule: 2 -> GET\n",
      "Support: 0.011558905142743065\n",
      "Confidence: 0.9990163934426228\n",
      "Lift: 59.198223332412816\n",
      "=====================================\n"
     ]
    }
   ],
   "source": [
    "for item in association_results:\n",
    "\n",
    "    # first index of the inner list\n",
    "    # Contains base item and add item\n",
    "    pair = item[0] \n",
    "    items = [x for x in pair]\n",
    "    print(\"Rule: \" + items[0] + \" -> \" + items[1])\n",
    "\n",
    "    #second index of the inner list\n",
    "    print(\"Support: \" + str(item[1]))\n",
    "\n",
    "    #third index of the list located at 0th\n",
    "    #of the third index of the inner list\n",
    "\n",
    "    print(\"Confidence: \" + str(item[2][0][2]))\n",
    "    print(\"Lift: \" + str(item[2][0][3]))\n",
    "    print(\"=====================================\")"
   ]
  },
  {
   "cell_type": "markdown",
   "metadata": {},
   "source": [
    "##### For example, the first rule states that the confidence level for the rule is 1 which shows that out of all requests that contain sc-substatus is 2, 100% of the requests also contain sc-status is 404. Besides, the lift of 59.19 tells us that sc-status is 59.19 times more likely to be requested by the users who access sc-substatus compared to the default likelihood of the requests of sc-status."
   ]
  }
 ],
 "metadata": {
  "colab": {
   "collapsed_sections": [],
   "name": "Group123_SIT742_official.ipynb",
   "provenance": [],
   "toc_visible": true
  },
  "kernelspec": {
   "display_name": "Python 3 (ipykernel)",
   "language": "python",
   "name": "python3"
  },
  "language_info": {
   "codemirror_mode": {
    "name": "ipython",
    "version": 3
   },
   "file_extension": ".py",
   "mimetype": "text/x-python",
   "name": "python",
   "nbconvert_exporter": "python",
   "pygments_lexer": "ipython3",
   "version": "3.11.5"
  },
  "widgets": {
   "application/vnd.jupyter.widget-state+json": {
    "40692df64bc24bcb92902b14acd33e57": {
     "model_module": "@jupyter-widgets/controls",
     "model_name": "IntProgressModel",
     "state": {
      "_dom_classes": [],
      "_model_module": "@jupyter-widgets/controls",
      "_model_module_version": "1.5.0",
      "_model_name": "IntProgressModel",
      "_view_count": null,
      "_view_module": "@jupyter-widgets/controls",
      "_view_module_version": "1.5.0",
      "_view_name": "ProgressView",
      "bar_style": "",
      "description": "Loading:",
      "description_tooltip": null,
      "layout": "IPY_MODEL_d9f4bc347fe54af388fb04f322cf373c",
      "max": 120,
      "min": 0,
      "orientation": "horizontal",
      "style": "IPY_MODEL_a13f38b3245241e58d6d5da71bd4e68a",
      "value": 120
     }
    },
    "a13f38b3245241e58d6d5da71bd4e68a": {
     "model_module": "@jupyter-widgets/controls",
     "model_name": "ProgressStyleModel",
     "state": {
      "_model_module": "@jupyter-widgets/controls",
      "_model_module_version": "1.5.0",
      "_model_name": "ProgressStyleModel",
      "_view_count": null,
      "_view_module": "@jupyter-widgets/base",
      "_view_module_version": "1.2.0",
      "_view_name": "StyleView",
      "bar_color": null,
      "description_width": ""
     }
    },
    "d9f4bc347fe54af388fb04f322cf373c": {
     "model_module": "@jupyter-widgets/base",
     "model_name": "LayoutModel",
     "state": {
      "_model_module": "@jupyter-widgets/base",
      "_model_module_version": "1.2.0",
      "_model_name": "LayoutModel",
      "_view_count": null,
      "_view_module": "@jupyter-widgets/base",
      "_view_module_version": "1.2.0",
      "_view_name": "LayoutView",
      "align_content": null,
      "align_items": null,
      "align_self": null,
      "border": null,
      "bottom": null,
      "display": null,
      "flex": null,
      "flex_flow": null,
      "grid_area": null,
      "grid_auto_columns": null,
      "grid_auto_flow": null,
      "grid_auto_rows": null,
      "grid_column": null,
      "grid_gap": null,
      "grid_row": null,
      "grid_template_areas": null,
      "grid_template_columns": null,
      "grid_template_rows": null,
      "height": null,
      "justify_content": null,
      "justify_items": null,
      "left": null,
      "margin": null,
      "max_height": null,
      "max_width": null,
      "min_height": null,
      "min_width": null,
      "object_fit": null,
      "object_position": null,
      "order": null,
      "overflow": null,
      "overflow_x": null,
      "overflow_y": null,
      "padding": null,
      "right": null,
      "top": null,
      "visibility": null,
      "width": null
     }
    }
   }
  }
 },
 "nbformat": 4,
 "nbformat_minor": 1
}
